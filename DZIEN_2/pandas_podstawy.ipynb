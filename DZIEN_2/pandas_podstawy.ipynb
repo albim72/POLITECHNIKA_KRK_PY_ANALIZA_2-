{
 "cells":[
  {
   "cell_type":"code",
   "source":[
    "import pandas as pd"
   ],
   "execution_count":1,
   "outputs":[
    
   ],
   "metadata":{
    "datalore":{
     "node_id":"EsXdGhXGrddpJ3qjC2mk3q",
     "type":"CODE",
     "hide_input_from_viewers":true,
     "hide_output_from_viewers":true
    }
   }
  },
  {
   "cell_type":"code",
   "source":[
    "obj = pd.Series([4,7,-5,3])\n",
    "obj"
   ],
   "execution_count":2,
   "outputs":[
    {
     "data":{
      "text\/html":[
       "<pre>0    4\n",
       "1    7\n",
       "2   -5\n",
       "3    3\n",
       "dtype: int64<\/pre>"
      ]
     },
     "metadata":{
      
     },
     "output_type":"display_data"
    }
   ],
   "metadata":{
    "datalore":{
     "node_id":"NxuGS4z0VNGin0GqaqG8TS",
     "type":"CODE",
     "hide_input_from_viewers":true,
     "hide_output_from_viewers":true
    }
   }
  },
  {
   "cell_type":"code",
   "source":[
    "type(obj)"
   ],
   "execution_count":3,
   "outputs":[
    {
     "data":{
      "text\/plain":[
       "pandas.core.series.Series"
      ]
     },
     "metadata":{
      
     },
     "output_type":"display_data"
    }
   ],
   "metadata":{
    "datalore":{
     "node_id":"dRgM3sfxb3StygcES2IkZJ",
     "type":"CODE",
     "hide_input_from_viewers":true,
     "hide_output_from_viewers":true
    }
   }
  },
  {
   "cell_type":"code",
   "source":[
    "obj.values"
   ],
   "execution_count":4,
   "outputs":[
    {
     "data":{
      "text\/html":[
       "<pre>array([ 4,  7, -5,  3])<\/pre>"
      ]
     },
     "metadata":{
      
     },
     "output_type":"display_data"
    }
   ],
   "metadata":{
    "datalore":{
     "node_id":"aR09NZFitdzJyEweTq2my6",
     "type":"CODE",
     "hide_input_from_viewers":true,
     "hide_output_from_viewers":true
    }
   }
  },
  {
   "cell_type":"code",
   "source":[
    "obj.index"
   ],
   "execution_count":5,
   "outputs":[
    {
     "data":{
      "text\/plain":[
       "RangeIndex(start=0, stop=4, step=1)"
      ]
     },
     "metadata":{
      
     },
     "output_type":"display_data"
    }
   ],
   "metadata":{
    "datalore":{
     "node_id":"1hzZ5bcLCk8yh2Ljn38hCu",
     "type":"CODE",
     "hide_input_from_viewers":true,
     "hide_output_from_viewers":true
    }
   }
  },
  {
   "cell_type":"code",
   "source":[
    "obj2 = pd.Series([4,7,-5,3],index=['a','b','d','c'])\n",
    "obj2"
   ],
   "execution_count":6,
   "outputs":[
    {
     "data":{
      "text\/html":[
       "<pre>a    4\n",
       "b    7\n",
       "d   -5\n",
       "c    3\n",
       "dtype: int64<\/pre>"
      ]
     },
     "metadata":{
      
     },
     "output_type":"display_data"
    }
   ],
   "metadata":{
    "datalore":{
     "node_id":"RVvFQeqhl98lkbkKIX6bK0",
     "type":"CODE",
     "hide_input_from_viewers":true,
     "hide_output_from_viewers":true
    }
   }
  },
  {
   "cell_type":"code",
   "source":[
    "obj2['a']"
   ],
   "execution_count":7,
   "outputs":[
    {
     "data":{
      "text\/plain":[
       "4"
      ]
     },
     "metadata":{
      
     },
     "output_type":"display_data"
    }
   ],
   "metadata":{
    "datalore":{
     "node_id":"7ZeeQ8gQFtZ8Ur9JoZIRJo",
     "type":"CODE",
     "hide_input_from_viewers":true,
     "hide_output_from_viewers":true
    }
   }
  },
  {
   "cell_type":"code",
   "source":[
    "obj2['d'] = 888\n",
    "obj2"
   ],
   "execution_count":8,
   "outputs":[
    {
     "data":{
      "text\/html":[
       "<pre>a      4\n",
       "b      7\n",
       "d    888\n",
       "c      3\n",
       "dtype: int64<\/pre>"
      ]
     },
     "metadata":{
      
     },
     "output_type":"display_data"
    }
   ],
   "metadata":{
    "datalore":{
     "node_id":"IPdIFqrJSr9fX17rWDIdex",
     "type":"CODE",
     "hide_input_from_viewers":true,
     "hide_output_from_viewers":true
    }
   }
  },
  {
   "cell_type":"code",
   "source":[
    "obj2['g'] = 100\n",
    "obj2"
   ],
   "execution_count":9,
   "outputs":[
    {
     "data":{
      "text\/html":[
       "<pre>a      4\n",
       "b      7\n",
       "d    888\n",
       "c      3\n",
       "g    100\n",
       "dtype: int64<\/pre>"
      ]
     },
     "metadata":{
      
     },
     "output_type":"display_data"
    }
   ],
   "metadata":{
    "datalore":{
     "node_id":"XIrPWYXoDbPLjMeTML6vVJ",
     "type":"CODE",
     "hide_input_from_viewers":true,
     "hide_output_from_viewers":true
    }
   }
  },
  {
   "cell_type":"code",
   "source":[
    "obj2[['c','d']]"
   ],
   "execution_count":10,
   "outputs":[
    {
     "data":{
      "text\/html":[
       "<pre>c      3\n",
       "d    888\n",
       "dtype: int64<\/pre>"
      ]
     },
     "metadata":{
      
     },
     "output_type":"display_data"
    }
   ],
   "metadata":{
    "datalore":{
     "node_id":"F6CZO1RVUrXD7XqOS1oDJw",
     "type":"CODE",
     "hide_input_from_viewers":true,
     "hide_output_from_viewers":true
    }
   }
  },
  {
   "cell_type":"code",
   "source":[
    "obj2[obj2>6]"
   ],
   "execution_count":11,
   "outputs":[
    {
     "data":{
      "text\/html":[
       "<pre>b      7\n",
       "d    888\n",
       "g    100\n",
       "dtype: int64<\/pre>"
      ]
     },
     "metadata":{
      
     },
     "output_type":"display_data"
    }
   ],
   "metadata":{
    "datalore":{
     "node_id":"1vnbVYyhgE8NeChV4He9Ie",
     "type":"CODE",
     "hide_input_from_viewers":true,
     "hide_output_from_viewers":true
    }
   }
  },
  {
   "cell_type":"code",
   "source":[
    "obj2*2"
   ],
   "execution_count":12,
   "outputs":[
    {
     "data":{
      "text\/html":[
       "<pre>a       8\n",
       "b      14\n",
       "d    1776\n",
       "c       6\n",
       "g     200\n",
       "dtype: int64<\/pre>"
      ]
     },
     "metadata":{
      
     },
     "output_type":"display_data"
    }
   ],
   "metadata":{
    "datalore":{
     "node_id":"WDO5CJKTICPn37NuoAEvfk",
     "type":"CODE",
     "hide_input_from_viewers":true,
     "hide_output_from_viewers":true
    }
   }
  },
  {
   "cell_type":"code",
   "source":[
    "'b' in obj2"
   ],
   "execution_count":13,
   "outputs":[
    {
     "data":{
      "text\/plain":[
       "True"
      ]
     },
     "metadata":{
      
     },
     "output_type":"display_data"
    }
   ],
   "metadata":{
    "datalore":{
     "node_id":"mPJcYVEcEmwc7BvkjoIVug",
     "type":"CODE",
     "hide_input_from_viewers":true,
     "hide_output_from_viewers":true
    }
   }
  },
  {
   "cell_type":"code",
   "source":[
    "'h' in obj2"
   ],
   "execution_count":14,
   "outputs":[
    {
     "data":{
      "text\/plain":[
       "False"
      ]
     },
     "metadata":{
      
     },
     "output_type":"display_data"
    }
   ],
   "metadata":{
    "datalore":{
     "node_id":"j2zFrlTeWoUW8YEBBZLX9o",
     "type":"CODE",
     "hide_input_from_viewers":true,
     "hide_output_from_viewers":true
    }
   }
  },
  {
   "cell_type":"code",
   "source":[
    "s = {'Warszawa':45678,'Kraków':44323,'Lublin':41988,'Gdańsk':40122}\n",
    "s"
   ],
   "execution_count":15,
   "outputs":[
    {
     "data":{
      "text\/plain":[
       "{'Warszawa': 45678, 'Kraków': 44323, 'Lublin': 41988, 'Gdańsk': 40122}"
      ]
     },
     "metadata":{
      
     },
     "output_type":"display_data"
    }
   ],
   "metadata":{
    "datalore":{
     "node_id":"smZpmr8H9tD5dbRSADglMr",
     "type":"CODE",
     "hide_input_from_viewers":true,
     "hide_output_from_viewers":true
    }
   }
  },
  {
   "cell_type":"code",
   "source":[
    "obj3 = pd.Series(s)\n",
    "obj3"
   ],
   "execution_count":16,
   "outputs":[
    {
     "data":{
      "text\/html":[
       "<pre>Warszawa    45678\n",
       "Kraków      44323\n",
       "Lublin      41988\n",
       "Gdańsk      40122\n",
       "dtype: int64<\/pre>"
      ]
     },
     "metadata":{
      
     },
     "output_type":"display_data"
    }
   ],
   "metadata":{
    "datalore":{
     "node_id":"bGDBRsK86GhDz2Qbr28oJZ",
     "type":"CODE",
     "hide_input_from_viewers":true,
     "hide_output_from_viewers":true
    }
   }
  },
  {
   "cell_type":"code",
   "source":[
    "miasta = ['Poznań','Kraków','Rzeszów','Lublin']\n",
    "obj4 = pd.Series(s,index=miasta)\n",
    "obj4"
   ],
   "execution_count":17,
   "outputs":[
    {
     "data":{
      "text\/html":[
       "<pre>Poznań         NaN\n",
       "Kraków     44323.0\n",
       "Rzeszów        NaN\n",
       "Lublin     41988.0\n",
       "dtype: float64<\/pre>"
      ]
     },
     "metadata":{
      
     },
     "output_type":"display_data"
    }
   ],
   "metadata":{
    "datalore":{
     "node_id":"MthwWlIvoDYEpZAbwNgGw4",
     "type":"CODE",
     "hide_input_from_viewers":true,
     "hide_output_from_viewers":true
    }
   }
  },
  {
   "cell_type":"code",
   "source":[
    "obj3+obj4"
   ],
   "execution_count":18,
   "outputs":[
    {
     "data":{
      "text\/html":[
       "<pre>Gdańsk          NaN\n",
       "Kraków      88646.0\n",
       "Lublin      83976.0\n",
       "Poznań          NaN\n",
       "Rzeszów         NaN\n",
       "Warszawa        NaN\n",
       "dtype: float64<\/pre>"
      ]
     },
     "metadata":{
      
     },
     "output_type":"display_data"
    }
   ],
   "metadata":{
    "datalore":{
     "node_id":"NATH0SBQ2OSk0sguO4xxic",
     "type":"CODE",
     "hide_input_from_viewers":true,
     "hide_output_from_viewers":true
    }
   }
  },
  {
   "cell_type":"code",
   "source":[
    "data = {'miasto':['Warszawa','Warszawa','Warszawa','Kraków','Kraków','Kraków'],\n",
    "        'rok':[2017,2018,2019,2018,2019,2020],\n",
    "        'populacja':[2.7,2.75,3.05,0.85,0.91,1.01]}\n",
    "\n",
    "frame = pd.DataFrame(data)"
   ],
   "execution_count":19,
   "outputs":[
    
   ],
   "metadata":{
    "datalore":{
     "node_id":"GMWCeikdw6KNIHGcipFQ2B",
     "type":"CODE",
     "hide_input_from_viewers":true,
     "hide_output_from_viewers":true
    }
   }
  },
  {
   "cell_type":"code",
   "source":[
    "frame"
   ],
   "execution_count":20,
   "outputs":[
    {
     "data":{
      "text\/html":[
       "<div>\n",
       "<style scoped>\n",
       "    .dataframe tbody tr th:only-of-type {\n",
       "        vertical-align: middle;\n",
       "    }\n",
       "\n",
       "    .dataframe tbody tr th {\n",
       "        vertical-align: top;\n",
       "    }\n",
       "\n",
       "    .dataframe thead th {\n",
       "        text-align: right;\n",
       "    }\n",
       "<\/style>\n",
       "<table border=\"1\" class=\"dataframe\">\n",
       "  <thead>\n",
       "    <tr style=\"text-align: right;\">\n",
       "      <th><\/th>\n",
       "      <th>miasto<\/th>\n",
       "      <th>rok<\/th>\n",
       "      <th>populacja<\/th>\n",
       "    <\/tr>\n",
       "  <\/thead>\n",
       "  <tbody>\n",
       "    <tr>\n",
       "      <th>0<\/th>\n",
       "      <td>Warszawa<\/td>\n",
       "      <td>2017<\/td>\n",
       "      <td>2.70<\/td>\n",
       "    <\/tr>\n",
       "    <tr>\n",
       "      <th>1<\/th>\n",
       "      <td>Warszawa<\/td>\n",
       "      <td>2018<\/td>\n",
       "      <td>2.75<\/td>\n",
       "    <\/tr>\n",
       "    <tr>\n",
       "      <th>2<\/th>\n",
       "      <td>Warszawa<\/td>\n",
       "      <td>2019<\/td>\n",
       "      <td>3.05<\/td>\n",
       "    <\/tr>\n",
       "    <tr>\n",
       "      <th>3<\/th>\n",
       "      <td>Kraków<\/td>\n",
       "      <td>2018<\/td>\n",
       "      <td>0.85<\/td>\n",
       "    <\/tr>\n",
       "    <tr>\n",
       "      <th>4<\/th>\n",
       "      <td>Kraków<\/td>\n",
       "      <td>2019<\/td>\n",
       "      <td>0.91<\/td>\n",
       "    <\/tr>\n",
       "    <tr>\n",
       "      <th>5<\/th>\n",
       "      <td>Kraków<\/td>\n",
       "      <td>2020<\/td>\n",
       "      <td>1.01<\/td>\n",
       "    <\/tr>\n",
       "  <\/tbody>\n",
       "<\/table>\n",
       "<\/div>"
      ]
     },
     "metadata":{
      
     },
     "output_type":"display_data"
    }
   ],
   "metadata":{
    "datalore":{
     "node_id":"3BG8gFj40CrD3hpXLW8D18",
     "type":"CODE",
     "hide_input_from_viewers":true,
     "hide_output_from_viewers":true
    }
   }
  },
  {
   "cell_type":"code",
   "source":[
    "frame2 = pd.DataFrame(data,columns=['rok','miasto','populacja','waga'],index = ['jeden','dwa','trzy','cztery','pieć','sześć'])\n",
    "frame2"
   ],
   "execution_count":21,
   "outputs":[
    {
     "data":{
      "text\/html":[
       "<div>\n",
       "<style scoped>\n",
       "    .dataframe tbody tr th:only-of-type {\n",
       "        vertical-align: middle;\n",
       "    }\n",
       "\n",
       "    .dataframe tbody tr th {\n",
       "        vertical-align: top;\n",
       "    }\n",
       "\n",
       "    .dataframe thead th {\n",
       "        text-align: right;\n",
       "    }\n",
       "<\/style>\n",
       "<table border=\"1\" class=\"dataframe\">\n",
       "  <thead>\n",
       "    <tr style=\"text-align: right;\">\n",
       "      <th><\/th>\n",
       "      <th>rok<\/th>\n",
       "      <th>miasto<\/th>\n",
       "      <th>populacja<\/th>\n",
       "      <th>waga<\/th>\n",
       "    <\/tr>\n",
       "  <\/thead>\n",
       "  <tbody>\n",
       "    <tr>\n",
       "      <th>jeden<\/th>\n",
       "      <td>2017<\/td>\n",
       "      <td>Warszawa<\/td>\n",
       "      <td>2.70<\/td>\n",
       "      <td>NaN<\/td>\n",
       "    <\/tr>\n",
       "    <tr>\n",
       "      <th>dwa<\/th>\n",
       "      <td>2018<\/td>\n",
       "      <td>Warszawa<\/td>\n",
       "      <td>2.75<\/td>\n",
       "      <td>NaN<\/td>\n",
       "    <\/tr>\n",
       "    <tr>\n",
       "      <th>trzy<\/th>\n",
       "      <td>2019<\/td>\n",
       "      <td>Warszawa<\/td>\n",
       "      <td>3.05<\/td>\n",
       "      <td>NaN<\/td>\n",
       "    <\/tr>\n",
       "    <tr>\n",
       "      <th>cztery<\/th>\n",
       "      <td>2018<\/td>\n",
       "      <td>Kraków<\/td>\n",
       "      <td>0.85<\/td>\n",
       "      <td>NaN<\/td>\n",
       "    <\/tr>\n",
       "    <tr>\n",
       "      <th>pieć<\/th>\n",
       "      <td>2019<\/td>\n",
       "      <td>Kraków<\/td>\n",
       "      <td>0.91<\/td>\n",
       "      <td>NaN<\/td>\n",
       "    <\/tr>\n",
       "    <tr>\n",
       "      <th>sześć<\/th>\n",
       "      <td>2020<\/td>\n",
       "      <td>Kraków<\/td>\n",
       "      <td>1.01<\/td>\n",
       "      <td>NaN<\/td>\n",
       "    <\/tr>\n",
       "  <\/tbody>\n",
       "<\/table>\n",
       "<\/div>"
      ]
     },
     "metadata":{
      
     },
     "output_type":"display_data"
    }
   ],
   "metadata":{
    "datalore":{
     "node_id":"Xgoz9LTyMOSF3qc1bqM1s2",
     "type":"CODE",
     "hide_input_from_viewers":true,
     "hide_output_from_viewers":true
    }
   }
  },
  {
   "cell_type":"code",
   "source":[
    "frame2['waga']=0.12"
   ],
   "execution_count":22,
   "outputs":[
    
   ],
   "metadata":{
    "datalore":{
     "node_id":"cCKmQgaGQTJr9H90a2Ho99",
     "type":"CODE",
     "hide_input_from_viewers":true,
     "hide_output_from_viewers":true
    }
   }
  },
  {
   "cell_type":"code",
   "source":[
    "frame2"
   ],
   "execution_count":23,
   "outputs":[
    {
     "data":{
      "text\/html":[
       "<div>\n",
       "<style scoped>\n",
       "    .dataframe tbody tr th:only-of-type {\n",
       "        vertical-align: middle;\n",
       "    }\n",
       "\n",
       "    .dataframe tbody tr th {\n",
       "        vertical-align: top;\n",
       "    }\n",
       "\n",
       "    .dataframe thead th {\n",
       "        text-align: right;\n",
       "    }\n",
       "<\/style>\n",
       "<table border=\"1\" class=\"dataframe\">\n",
       "  <thead>\n",
       "    <tr style=\"text-align: right;\">\n",
       "      <th><\/th>\n",
       "      <th>rok<\/th>\n",
       "      <th>miasto<\/th>\n",
       "      <th>populacja<\/th>\n",
       "      <th>waga<\/th>\n",
       "    <\/tr>\n",
       "  <\/thead>\n",
       "  <tbody>\n",
       "    <tr>\n",
       "      <th>jeden<\/th>\n",
       "      <td>2017<\/td>\n",
       "      <td>Warszawa<\/td>\n",
       "      <td>2.70<\/td>\n",
       "      <td>0.12<\/td>\n",
       "    <\/tr>\n",
       "    <tr>\n",
       "      <th>dwa<\/th>\n",
       "      <td>2018<\/td>\n",
       "      <td>Warszawa<\/td>\n",
       "      <td>2.75<\/td>\n",
       "      <td>0.12<\/td>\n",
       "    <\/tr>\n",
       "    <tr>\n",
       "      <th>trzy<\/th>\n",
       "      <td>2019<\/td>\n",
       "      <td>Warszawa<\/td>\n",
       "      <td>3.05<\/td>\n",
       "      <td>0.12<\/td>\n",
       "    <\/tr>\n",
       "    <tr>\n",
       "      <th>cztery<\/th>\n",
       "      <td>2018<\/td>\n",
       "      <td>Kraków<\/td>\n",
       "      <td>0.85<\/td>\n",
       "      <td>0.12<\/td>\n",
       "    <\/tr>\n",
       "    <tr>\n",
       "      <th>pieć<\/th>\n",
       "      <td>2019<\/td>\n",
       "      <td>Kraków<\/td>\n",
       "      <td>0.91<\/td>\n",
       "      <td>0.12<\/td>\n",
       "    <\/tr>\n",
       "    <tr>\n",
       "      <th>sześć<\/th>\n",
       "      <td>2020<\/td>\n",
       "      <td>Kraków<\/td>\n",
       "      <td>1.01<\/td>\n",
       "      <td>0.12<\/td>\n",
       "    <\/tr>\n",
       "  <\/tbody>\n",
       "<\/table>\n",
       "<\/div>"
      ]
     },
     "metadata":{
      
     },
     "output_type":"display_data"
    }
   ],
   "metadata":{
    "datalore":{
     "node_id":"GkJCvMxW0U8cdRMfoe08pY",
     "type":"CODE",
     "hide_input_from_viewers":true,
     "hide_output_from_viewers":true
    }
   }
  },
  {
   "cell_type":"code",
   "source":[
    "import numpy as np"
   ],
   "execution_count":24,
   "outputs":[
    
   ],
   "metadata":{
    "datalore":{
     "node_id":"CyWih4OVwMADzyEFhkwmAt",
     "type":"CODE",
     "hide_input_from_viewers":true,
     "hide_output_from_viewers":true
    }
   }
  },
  {
   "cell_type":"code",
   "source":[
    "frame2['waga']=np.arange(6.)\n",
    "frame2"
   ],
   "execution_count":25,
   "outputs":[
    {
     "data":{
      "text\/html":[
       "<div>\n",
       "<style scoped>\n",
       "    .dataframe tbody tr th:only-of-type {\n",
       "        vertical-align: middle;\n",
       "    }\n",
       "\n",
       "    .dataframe tbody tr th {\n",
       "        vertical-align: top;\n",
       "    }\n",
       "\n",
       "    .dataframe thead th {\n",
       "        text-align: right;\n",
       "    }\n",
       "<\/style>\n",
       "<table border=\"1\" class=\"dataframe\">\n",
       "  <thead>\n",
       "    <tr style=\"text-align: right;\">\n",
       "      <th><\/th>\n",
       "      <th>rok<\/th>\n",
       "      <th>miasto<\/th>\n",
       "      <th>populacja<\/th>\n",
       "      <th>waga<\/th>\n",
       "    <\/tr>\n",
       "  <\/thead>\n",
       "  <tbody>\n",
       "    <tr>\n",
       "      <th>jeden<\/th>\n",
       "      <td>2017<\/td>\n",
       "      <td>Warszawa<\/td>\n",
       "      <td>2.70<\/td>\n",
       "      <td>0.0<\/td>\n",
       "    <\/tr>\n",
       "    <tr>\n",
       "      <th>dwa<\/th>\n",
       "      <td>2018<\/td>\n",
       "      <td>Warszawa<\/td>\n",
       "      <td>2.75<\/td>\n",
       "      <td>1.0<\/td>\n",
       "    <\/tr>\n",
       "    <tr>\n",
       "      <th>trzy<\/th>\n",
       "      <td>2019<\/td>\n",
       "      <td>Warszawa<\/td>\n",
       "      <td>3.05<\/td>\n",
       "      <td>2.0<\/td>\n",
       "    <\/tr>\n",
       "    <tr>\n",
       "      <th>cztery<\/th>\n",
       "      <td>2018<\/td>\n",
       "      <td>Kraków<\/td>\n",
       "      <td>0.85<\/td>\n",
       "      <td>3.0<\/td>\n",
       "    <\/tr>\n",
       "    <tr>\n",
       "      <th>pieć<\/th>\n",
       "      <td>2019<\/td>\n",
       "      <td>Kraków<\/td>\n",
       "      <td>0.91<\/td>\n",
       "      <td>4.0<\/td>\n",
       "    <\/tr>\n",
       "    <tr>\n",
       "      <th>sześć<\/th>\n",
       "      <td>2020<\/td>\n",
       "      <td>Kraków<\/td>\n",
       "      <td>1.01<\/td>\n",
       "      <td>5.0<\/td>\n",
       "    <\/tr>\n",
       "  <\/tbody>\n",
       "<\/table>\n",
       "<\/div>"
      ]
     },
     "metadata":{
      
     },
     "output_type":"display_data"
    }
   ],
   "metadata":{
    "datalore":{
     "node_id":"3TyZuD7Xg6WSPW4G3godZh",
     "type":"CODE",
     "hide_input_from_viewers":true,
     "hide_output_from_viewers":true
    }
   }
  },
  {
   "cell_type":"code",
   "source":[
    "frame2['waga'] = np.array([0.99,1.08,1.1,2,3,0.1])\n",
    "frame2"
   ],
   "execution_count":27,
   "outputs":[
    {
     "data":{
      "text\/html":[
       "<div>\n",
       "<style scoped>\n",
       "    .dataframe tbody tr th:only-of-type {\n",
       "        vertical-align: middle;\n",
       "    }\n",
       "\n",
       "    .dataframe tbody tr th {\n",
       "        vertical-align: top;\n",
       "    }\n",
       "\n",
       "    .dataframe thead th {\n",
       "        text-align: right;\n",
       "    }\n",
       "<\/style>\n",
       "<table border=\"1\" class=\"dataframe\">\n",
       "  <thead>\n",
       "    <tr style=\"text-align: right;\">\n",
       "      <th><\/th>\n",
       "      <th>rok<\/th>\n",
       "      <th>miasto<\/th>\n",
       "      <th>populacja<\/th>\n",
       "      <th>waga<\/th>\n",
       "    <\/tr>\n",
       "  <\/thead>\n",
       "  <tbody>\n",
       "    <tr>\n",
       "      <th>jeden<\/th>\n",
       "      <td>2017<\/td>\n",
       "      <td>Warszawa<\/td>\n",
       "      <td>2.70<\/td>\n",
       "      <td>0.99<\/td>\n",
       "    <\/tr>\n",
       "    <tr>\n",
       "      <th>dwa<\/th>\n",
       "      <td>2018<\/td>\n",
       "      <td>Warszawa<\/td>\n",
       "      <td>2.75<\/td>\n",
       "      <td>1.08<\/td>\n",
       "    <\/tr>\n",
       "    <tr>\n",
       "      <th>trzy<\/th>\n",
       "      <td>2019<\/td>\n",
       "      <td>Warszawa<\/td>\n",
       "      <td>3.05<\/td>\n",
       "      <td>1.10<\/td>\n",
       "    <\/tr>\n",
       "    <tr>\n",
       "      <th>cztery<\/th>\n",
       "      <td>2018<\/td>\n",
       "      <td>Kraków<\/td>\n",
       "      <td>0.85<\/td>\n",
       "      <td>2.00<\/td>\n",
       "    <\/tr>\n",
       "    <tr>\n",
       "      <th>pieć<\/th>\n",
       "      <td>2019<\/td>\n",
       "      <td>Kraków<\/td>\n",
       "      <td>0.91<\/td>\n",
       "      <td>3.00<\/td>\n",
       "    <\/tr>\n",
       "    <tr>\n",
       "      <th>sześć<\/th>\n",
       "      <td>2020<\/td>\n",
       "      <td>Kraków<\/td>\n",
       "      <td>1.01<\/td>\n",
       "      <td>0.10<\/td>\n",
       "    <\/tr>\n",
       "  <\/tbody>\n",
       "<\/table>\n",
       "<\/div>"
      ]
     },
     "metadata":{
      
     },
     "output_type":"display_data"
    }
   ],
   "metadata":{
    "datalore":{
     "node_id":"mtNmjdKEMTBrPeH9XsMZYz",
     "type":"CODE",
     "hide_input_from_viewers":true,
     "hide_output_from_viewers":true
    }
   }
  },
  {
   "cell_type":"code",
   "source":[
    "daty = pd.date_range(\"20231210\",periods=6)\n",
    "daty"
   ],
   "execution_count":32,
   "outputs":[
    {
     "data":{
      "text\/plain":[
       "DatetimeIndex(['2023-12-10', '2023-12-11', '2023-12-12', '2023-12-13',\n",
       "               '2023-12-14', '2023-12-15'],\n",
       "              dtype='datetime64[ns]', freq='D')"
      ]
     },
     "metadata":{
      
     },
     "output_type":"display_data"
    }
   ],
   "metadata":{
    "datalore":{
     "node_id":"d0j2ILZB7EGQir4iyzoyR3",
     "type":"CODE",
     "hide_input_from_viewers":true,
     "hide_output_from_viewers":true
    }
   }
  },
  {
   "cell_type":"code",
   "source":[
    "fr = pd.DataFrame(np.random.randn(6,4),index=daty,columns=list(\"ABCD\"))\n",
    "fr"
   ],
   "execution_count":33,
   "outputs":[
    {
     "data":{
      "text\/html":[
       "<div>\n",
       "<style scoped>\n",
       "    .dataframe tbody tr th:only-of-type {\n",
       "        vertical-align: middle;\n",
       "    }\n",
       "\n",
       "    .dataframe tbody tr th {\n",
       "        vertical-align: top;\n",
       "    }\n",
       "\n",
       "    .dataframe thead th {\n",
       "        text-align: right;\n",
       "    }\n",
       "<\/style>\n",
       "<table border=\"1\" class=\"dataframe\">\n",
       "  <thead>\n",
       "    <tr style=\"text-align: right;\">\n",
       "      <th><\/th>\n",
       "      <th>A<\/th>\n",
       "      <th>B<\/th>\n",
       "      <th>C<\/th>\n",
       "      <th>D<\/th>\n",
       "    <\/tr>\n",
       "  <\/thead>\n",
       "  <tbody>\n",
       "    <tr>\n",
       "      <th>2023-12-10<\/th>\n",
       "      <td>0.128166<\/td>\n",
       "      <td>0.109471<\/td>\n",
       "      <td>0.690741<\/td>\n",
       "      <td>-1.495298<\/td>\n",
       "    <\/tr>\n",
       "    <tr>\n",
       "      <th>2023-12-11<\/th>\n",
       "      <td>0.140812<\/td>\n",
       "      <td>3.008623<\/td>\n",
       "      <td>0.811700<\/td>\n",
       "      <td>0.098192<\/td>\n",
       "    <\/tr>\n",
       "    <tr>\n",
       "      <th>2023-12-12<\/th>\n",
       "      <td>-0.542744<\/td>\n",
       "      <td>-1.059749<\/td>\n",
       "      <td>0.723882<\/td>\n",
       "      <td>0.971976<\/td>\n",
       "    <\/tr>\n",
       "    <tr>\n",
       "      <th>2023-12-13<\/th>\n",
       "      <td>1.529070<\/td>\n",
       "      <td>1.255327<\/td>\n",
       "      <td>0.037828<\/td>\n",
       "      <td>-0.604315<\/td>\n",
       "    <\/tr>\n",
       "    <tr>\n",
       "      <th>2023-12-14<\/th>\n",
       "      <td>-0.870365<\/td>\n",
       "      <td>-1.112501<\/td>\n",
       "      <td>-0.433467<\/td>\n",
       "      <td>1.715556<\/td>\n",
       "    <\/tr>\n",
       "    <tr>\n",
       "      <th>2023-12-15<\/th>\n",
       "      <td>-1.377478<\/td>\n",
       "      <td>-0.146001<\/td>\n",
       "      <td>0.201177<\/td>\n",
       "      <td>-0.216373<\/td>\n",
       "    <\/tr>\n",
       "  <\/tbody>\n",
       "<\/table>\n",
       "<\/div>"
      ]
     },
     "metadata":{
      
     },
     "output_type":"display_data"
    }
   ],
   "metadata":{
    "datalore":{
     "node_id":"uch6V48pVNg2GZ8jGDeoY6",
     "type":"CODE",
     "hide_input_from_viewers":true,
     "hide_output_from_viewers":true
    }
   }
  },
  {
   "cell_type":"code",
   "source":[
    "fr.head(3)"
   ],
   "execution_count":35,
   "outputs":[
    {
     "data":{
      "text\/html":[
       "<div>\n",
       "<style scoped>\n",
       "    .dataframe tbody tr th:only-of-type {\n",
       "        vertical-align: middle;\n",
       "    }\n",
       "\n",
       "    .dataframe tbody tr th {\n",
       "        vertical-align: top;\n",
       "    }\n",
       "\n",
       "    .dataframe thead th {\n",
       "        text-align: right;\n",
       "    }\n",
       "<\/style>\n",
       "<table border=\"1\" class=\"dataframe\">\n",
       "  <thead>\n",
       "    <tr style=\"text-align: right;\">\n",
       "      <th><\/th>\n",
       "      <th>A<\/th>\n",
       "      <th>B<\/th>\n",
       "      <th>C<\/th>\n",
       "      <th>D<\/th>\n",
       "    <\/tr>\n",
       "  <\/thead>\n",
       "  <tbody>\n",
       "    <tr>\n",
       "      <th>2023-12-10<\/th>\n",
       "      <td>0.128166<\/td>\n",
       "      <td>0.109471<\/td>\n",
       "      <td>0.690741<\/td>\n",
       "      <td>-1.495298<\/td>\n",
       "    <\/tr>\n",
       "    <tr>\n",
       "      <th>2023-12-11<\/th>\n",
       "      <td>0.140812<\/td>\n",
       "      <td>3.008623<\/td>\n",
       "      <td>0.811700<\/td>\n",
       "      <td>0.098192<\/td>\n",
       "    <\/tr>\n",
       "    <tr>\n",
       "      <th>2023-12-12<\/th>\n",
       "      <td>-0.542744<\/td>\n",
       "      <td>-1.059749<\/td>\n",
       "      <td>0.723882<\/td>\n",
       "      <td>0.971976<\/td>\n",
       "    <\/tr>\n",
       "  <\/tbody>\n",
       "<\/table>\n",
       "<\/div>"
      ]
     },
     "metadata":{
      
     },
     "output_type":"display_data"
    }
   ],
   "metadata":{
    "datalore":{
     "node_id":"EbCBFTDaRnOlx1GmyOmkdN",
     "type":"CODE",
     "hide_input_from_viewers":true,
     "hide_output_from_viewers":true
    }
   }
  },
  {
   "cell_type":"code",
   "source":[
    "fr.tail(2)"
   ],
   "execution_count":37,
   "outputs":[
    {
     "data":{
      "text\/html":[
       "<div>\n",
       "<style scoped>\n",
       "    .dataframe tbody tr th:only-of-type {\n",
       "        vertical-align: middle;\n",
       "    }\n",
       "\n",
       "    .dataframe tbody tr th {\n",
       "        vertical-align: top;\n",
       "    }\n",
       "\n",
       "    .dataframe thead th {\n",
       "        text-align: right;\n",
       "    }\n",
       "<\/style>\n",
       "<table border=\"1\" class=\"dataframe\">\n",
       "  <thead>\n",
       "    <tr style=\"text-align: right;\">\n",
       "      <th><\/th>\n",
       "      <th>A<\/th>\n",
       "      <th>B<\/th>\n",
       "      <th>C<\/th>\n",
       "      <th>D<\/th>\n",
       "    <\/tr>\n",
       "  <\/thead>\n",
       "  <tbody>\n",
       "    <tr>\n",
       "      <th>2023-12-14<\/th>\n",
       "      <td>-0.870365<\/td>\n",
       "      <td>-1.112501<\/td>\n",
       "      <td>-0.433467<\/td>\n",
       "      <td>1.715556<\/td>\n",
       "    <\/tr>\n",
       "    <tr>\n",
       "      <th>2023-12-15<\/th>\n",
       "      <td>-1.377478<\/td>\n",
       "      <td>-0.146001<\/td>\n",
       "      <td>0.201177<\/td>\n",
       "      <td>-0.216373<\/td>\n",
       "    <\/tr>\n",
       "  <\/tbody>\n",
       "<\/table>\n",
       "<\/div>"
      ]
     },
     "metadata":{
      
     },
     "output_type":"display_data"
    }
   ],
   "metadata":{
    "datalore":{
     "node_id":"wdbGBRIVn5d2pYCviaXk2q",
     "type":"CODE",
     "hide_input_from_viewers":true,
     "hide_output_from_viewers":true
    }
   }
  },
  {
   "cell_type":"code",
   "source":[
    "nf = fr.to_numpy()\n",
    "print(nf)\n",
    "print(type(nf))"
   ],
   "execution_count":38,
   "outputs":[
    {
     "name":"stdout",
     "text":[
      "[[ 0.1281662   0.10947145  0.69074138 -1.49529848]\n",
      " [ 0.14081179  3.00862301  0.81170046  0.09819225]\n",
      " [-0.54274356 -1.05974862  0.72388242  0.97197563]\n",
      " [ 1.52906962  1.25532723  0.03782819 -0.60431502]\n",
      " [-0.87036481 -1.11250071 -0.43346664  1.71555572]\n",
      " [-1.37747848 -0.14600108  0.20117748 -0.21637332]]\n",
      "<class 'numpy.ndarray'>\n"
     ],
     "output_type":"stream"
    }
   ],
   "metadata":{
    "datalore":{
     "node_id":"Nh4C5r7ylBxqqpEZFkLUQn",
     "type":"CODE",
     "hide_input_from_viewers":true,
     "hide_output_from_viewers":true
    }
   }
  },
  {
   "cell_type":"code",
   "source":[
    "fr.describe()"
   ],
   "execution_count":39,
   "outputs":[
    {
     "data":{
      "text\/html":[
       "<div>\n",
       "<style scoped>\n",
       "    .dataframe tbody tr th:only-of-type {\n",
       "        vertical-align: middle;\n",
       "    }\n",
       "\n",
       "    .dataframe tbody tr th {\n",
       "        vertical-align: top;\n",
       "    }\n",
       "\n",
       "    .dataframe thead th {\n",
       "        text-align: right;\n",
       "    }\n",
       "<\/style>\n",
       "<table border=\"1\" class=\"dataframe\">\n",
       "  <thead>\n",
       "    <tr style=\"text-align: right;\">\n",
       "      <th><\/th>\n",
       "      <th>A<\/th>\n",
       "      <th>B<\/th>\n",
       "      <th>C<\/th>\n",
       "      <th>D<\/th>\n",
       "    <\/tr>\n",
       "  <\/thead>\n",
       "  <tbody>\n",
       "    <tr>\n",
       "      <th>count<\/th>\n",
       "      <td>6.000000<\/td>\n",
       "      <td>6.000000<\/td>\n",
       "      <td>6.000000<\/td>\n",
       "      <td>6.000000<\/td>\n",
       "    <\/tr>\n",
       "    <tr>\n",
       "      <th>mean<\/th>\n",
       "      <td>-0.165423<\/td>\n",
       "      <td>0.342529<\/td>\n",
       "      <td>0.338644<\/td>\n",
       "      <td>0.078289<\/td>\n",
       "    <\/tr>\n",
       "    <tr>\n",
       "      <th>std<\/th>\n",
       "      <td>1.015842<\/td>\n",
       "      <td>1.569569<\/td>\n",
       "      <td>0.490246<\/td>\n",
       "      <td>1.140935<\/td>\n",
       "    <\/tr>\n",
       "    <tr>\n",
       "      <th>min<\/th>\n",
       "      <td>-1.377478<\/td>\n",
       "      <td>-1.112501<\/td>\n",
       "      <td>-0.433467<\/td>\n",
       "      <td>-1.495298<\/td>\n",
       "    <\/tr>\n",
       "    <tr>\n",
       "      <th>25%<\/th>\n",
       "      <td>-0.788460<\/td>\n",
       "      <td>-0.831312<\/td>\n",
       "      <td>0.078666<\/td>\n",
       "      <td>-0.507330<\/td>\n",
       "    <\/tr>\n",
       "    <tr>\n",
       "      <th>50%<\/th>\n",
       "      <td>-0.207289<\/td>\n",
       "      <td>-0.018265<\/td>\n",
       "      <td>0.445959<\/td>\n",
       "      <td>-0.059091<\/td>\n",
       "    <\/tr>\n",
       "    <tr>\n",
       "      <th>75%<\/th>\n",
       "      <td>0.137650<\/td>\n",
       "      <td>0.968863<\/td>\n",
       "      <td>0.715597<\/td>\n",
       "      <td>0.753530<\/td>\n",
       "    <\/tr>\n",
       "    <tr>\n",
       "      <th>max<\/th>\n",
       "      <td>1.529070<\/td>\n",
       "      <td>3.008623<\/td>\n",
       "      <td>0.811700<\/td>\n",
       "      <td>1.715556<\/td>\n",
       "    <\/tr>\n",
       "  <\/tbody>\n",
       "<\/table>\n",
       "<\/div>"
      ]
     },
     "metadata":{
      
     },
     "output_type":"display_data"
    }
   ],
   "metadata":{
    "datalore":{
     "node_id":"TGip3RAIGHon2J5R7W5Scd",
     "type":"CODE",
     "hide_input_from_viewers":true,
     "hide_output_from_viewers":true
    }
   }
  },
  {
   "cell_type":"code",
   "source":[
    "fr.T"
   ],
   "execution_count":40,
   "outputs":[
    {
     "data":{
      "text\/html":[
       "<div>\n",
       "<style scoped>\n",
       "    .dataframe tbody tr th:only-of-type {\n",
       "        vertical-align: middle;\n",
       "    }\n",
       "\n",
       "    .dataframe tbody tr th {\n",
       "        vertical-align: top;\n",
       "    }\n",
       "\n",
       "    .dataframe thead th {\n",
       "        text-align: right;\n",
       "    }\n",
       "<\/style>\n",
       "<table border=\"1\" class=\"dataframe\">\n",
       "  <thead>\n",
       "    <tr style=\"text-align: right;\">\n",
       "      <th><\/th>\n",
       "      <th>2023-12-10<\/th>\n",
       "      <th>2023-12-11<\/th>\n",
       "      <th>2023-12-12<\/th>\n",
       "      <th>2023-12-13<\/th>\n",
       "      <th>2023-12-14<\/th>\n",
       "      <th>2023-12-15<\/th>\n",
       "    <\/tr>\n",
       "  <\/thead>\n",
       "  <tbody>\n",
       "    <tr>\n",
       "      <th>A<\/th>\n",
       "      <td>0.128166<\/td>\n",
       "      <td>0.140812<\/td>\n",
       "      <td>-0.542744<\/td>\n",
       "      <td>1.529070<\/td>\n",
       "      <td>-0.870365<\/td>\n",
       "      <td>-1.377478<\/td>\n",
       "    <\/tr>\n",
       "    <tr>\n",
       "      <th>B<\/th>\n",
       "      <td>0.109471<\/td>\n",
       "      <td>3.008623<\/td>\n",
       "      <td>-1.059749<\/td>\n",
       "      <td>1.255327<\/td>\n",
       "      <td>-1.112501<\/td>\n",
       "      <td>-0.146001<\/td>\n",
       "    <\/tr>\n",
       "    <tr>\n",
       "      <th>C<\/th>\n",
       "      <td>0.690741<\/td>\n",
       "      <td>0.811700<\/td>\n",
       "      <td>0.723882<\/td>\n",
       "      <td>0.037828<\/td>\n",
       "      <td>-0.433467<\/td>\n",
       "      <td>0.201177<\/td>\n",
       "    <\/tr>\n",
       "    <tr>\n",
       "      <th>D<\/th>\n",
       "      <td>-1.495298<\/td>\n",
       "      <td>0.098192<\/td>\n",
       "      <td>0.971976<\/td>\n",
       "      <td>-0.604315<\/td>\n",
       "      <td>1.715556<\/td>\n",
       "      <td>-0.216373<\/td>\n",
       "    <\/tr>\n",
       "  <\/tbody>\n",
       "<\/table>\n",
       "<\/div>"
      ]
     },
     "metadata":{
      
     },
     "output_type":"display_data"
    }
   ],
   "metadata":{
    "datalore":{
     "node_id":"uInX2Jahy4c7AgW7KlZChh",
     "type":"CODE",
     "hide_input_from_viewers":true,
     "hide_output_from_viewers":true
    }
   }
  },
  {
   "cell_type":"code",
   "source":[
    "fr.sort_index(axis=1,ascending=False)"
   ],
   "execution_count":42,
   "outputs":[
    {
     "data":{
      "text\/html":[
       "<div>\n",
       "<style scoped>\n",
       "    .dataframe tbody tr th:only-of-type {\n",
       "        vertical-align: middle;\n",
       "    }\n",
       "\n",
       "    .dataframe tbody tr th {\n",
       "        vertical-align: top;\n",
       "    }\n",
       "\n",
       "    .dataframe thead th {\n",
       "        text-align: right;\n",
       "    }\n",
       "<\/style>\n",
       "<table border=\"1\" class=\"dataframe\">\n",
       "  <thead>\n",
       "    <tr style=\"text-align: right;\">\n",
       "      <th><\/th>\n",
       "      <th>D<\/th>\n",
       "      <th>C<\/th>\n",
       "      <th>B<\/th>\n",
       "      <th>A<\/th>\n",
       "    <\/tr>\n",
       "  <\/thead>\n",
       "  <tbody>\n",
       "    <tr>\n",
       "      <th>2023-12-10<\/th>\n",
       "      <td>-1.495298<\/td>\n",
       "      <td>0.690741<\/td>\n",
       "      <td>0.109471<\/td>\n",
       "      <td>0.128166<\/td>\n",
       "    <\/tr>\n",
       "    <tr>\n",
       "      <th>2023-12-11<\/th>\n",
       "      <td>0.098192<\/td>\n",
       "      <td>0.811700<\/td>\n",
       "      <td>3.008623<\/td>\n",
       "      <td>0.140812<\/td>\n",
       "    <\/tr>\n",
       "    <tr>\n",
       "      <th>2023-12-12<\/th>\n",
       "      <td>0.971976<\/td>\n",
       "      <td>0.723882<\/td>\n",
       "      <td>-1.059749<\/td>\n",
       "      <td>-0.542744<\/td>\n",
       "    <\/tr>\n",
       "    <tr>\n",
       "      <th>2023-12-13<\/th>\n",
       "      <td>-0.604315<\/td>\n",
       "      <td>0.037828<\/td>\n",
       "      <td>1.255327<\/td>\n",
       "      <td>1.529070<\/td>\n",
       "    <\/tr>\n",
       "    <tr>\n",
       "      <th>2023-12-14<\/th>\n",
       "      <td>1.715556<\/td>\n",
       "      <td>-0.433467<\/td>\n",
       "      <td>-1.112501<\/td>\n",
       "      <td>-0.870365<\/td>\n",
       "    <\/tr>\n",
       "    <tr>\n",
       "      <th>2023-12-15<\/th>\n",
       "      <td>-0.216373<\/td>\n",
       "      <td>0.201177<\/td>\n",
       "      <td>-0.146001<\/td>\n",
       "      <td>-1.377478<\/td>\n",
       "    <\/tr>\n",
       "  <\/tbody>\n",
       "<\/table>\n",
       "<\/div>"
      ]
     },
     "metadata":{
      
     },
     "output_type":"display_data"
    }
   ],
   "metadata":{
    "datalore":{
     "node_id":"kn83YHn3tnrEwJkK9k77q9",
     "type":"CODE",
     "hide_input_from_viewers":true,
     "hide_output_from_viewers":true
    }
   }
  },
  {
   "cell_type":"code",
   "source":[
    "fr.sort_values(by='B',ascending=False)"
   ],
   "execution_count":44,
   "outputs":[
    {
     "data":{
      "text\/html":[
       "<div>\n",
       "<style scoped>\n",
       "    .dataframe tbody tr th:only-of-type {\n",
       "        vertical-align: middle;\n",
       "    }\n",
       "\n",
       "    .dataframe tbody tr th {\n",
       "        vertical-align: top;\n",
       "    }\n",
       "\n",
       "    .dataframe thead th {\n",
       "        text-align: right;\n",
       "    }\n",
       "<\/style>\n",
       "<table border=\"1\" class=\"dataframe\">\n",
       "  <thead>\n",
       "    <tr style=\"text-align: right;\">\n",
       "      <th><\/th>\n",
       "      <th>A<\/th>\n",
       "      <th>B<\/th>\n",
       "      <th>C<\/th>\n",
       "      <th>D<\/th>\n",
       "    <\/tr>\n",
       "  <\/thead>\n",
       "  <tbody>\n",
       "    <tr>\n",
       "      <th>2023-12-11<\/th>\n",
       "      <td>0.140812<\/td>\n",
       "      <td>3.008623<\/td>\n",
       "      <td>0.811700<\/td>\n",
       "      <td>0.098192<\/td>\n",
       "    <\/tr>\n",
       "    <tr>\n",
       "      <th>2023-12-13<\/th>\n",
       "      <td>1.529070<\/td>\n",
       "      <td>1.255327<\/td>\n",
       "      <td>0.037828<\/td>\n",
       "      <td>-0.604315<\/td>\n",
       "    <\/tr>\n",
       "    <tr>\n",
       "      <th>2023-12-10<\/th>\n",
       "      <td>0.128166<\/td>\n",
       "      <td>0.109471<\/td>\n",
       "      <td>0.690741<\/td>\n",
       "      <td>-1.495298<\/td>\n",
       "    <\/tr>\n",
       "    <tr>\n",
       "      <th>2023-12-15<\/th>\n",
       "      <td>-1.377478<\/td>\n",
       "      <td>-0.146001<\/td>\n",
       "      <td>0.201177<\/td>\n",
       "      <td>-0.216373<\/td>\n",
       "    <\/tr>\n",
       "    <tr>\n",
       "      <th>2023-12-12<\/th>\n",
       "      <td>-0.542744<\/td>\n",
       "      <td>-1.059749<\/td>\n",
       "      <td>0.723882<\/td>\n",
       "      <td>0.971976<\/td>\n",
       "    <\/tr>\n",
       "    <tr>\n",
       "      <th>2023-12-14<\/th>\n",
       "      <td>-0.870365<\/td>\n",
       "      <td>-1.112501<\/td>\n",
       "      <td>-0.433467<\/td>\n",
       "      <td>1.715556<\/td>\n",
       "    <\/tr>\n",
       "  <\/tbody>\n",
       "<\/table>\n",
       "<\/div>"
      ]
     },
     "metadata":{
      
     },
     "output_type":"display_data"
    }
   ],
   "metadata":{
    "datalore":{
     "node_id":"pEQXwZLS19xD62Mpghktza",
     "type":"CODE",
     "hide_input_from_viewers":true,
     "hide_output_from_viewers":true
    }
   }
  },
  {
   "cell_type":"code",
   "source":[
    "data = pd.DataFrame(np.arange(16).reshape((4,4)),\n",
    "                    index=['Kraków','Warszawa','Lublin','Katowice'],\n",
    "                    columns=['cecha_1','cecha_2','cecha_3','cecha_4'])\n",
    "\n",
    "data"
   ],
   "execution_count":46,
   "outputs":[
    {
     "data":{
      "text\/html":[
       "<div>\n",
       "<style scoped>\n",
       "    .dataframe tbody tr th:only-of-type {\n",
       "        vertical-align: middle;\n",
       "    }\n",
       "\n",
       "    .dataframe tbody tr th {\n",
       "        vertical-align: top;\n",
       "    }\n",
       "\n",
       "    .dataframe thead th {\n",
       "        text-align: right;\n",
       "    }\n",
       "<\/style>\n",
       "<table border=\"1\" class=\"dataframe\">\n",
       "  <thead>\n",
       "    <tr style=\"text-align: right;\">\n",
       "      <th><\/th>\n",
       "      <th>cecha_1<\/th>\n",
       "      <th>cecha_2<\/th>\n",
       "      <th>cecha_3<\/th>\n",
       "      <th>cecha_4<\/th>\n",
       "    <\/tr>\n",
       "  <\/thead>\n",
       "  <tbody>\n",
       "    <tr>\n",
       "      <th>Kraków<\/th>\n",
       "      <td>0<\/td>\n",
       "      <td>1<\/td>\n",
       "      <td>2<\/td>\n",
       "      <td>3<\/td>\n",
       "    <\/tr>\n",
       "    <tr>\n",
       "      <th>Warszawa<\/th>\n",
       "      <td>4<\/td>\n",
       "      <td>5<\/td>\n",
       "      <td>6<\/td>\n",
       "      <td>7<\/td>\n",
       "    <\/tr>\n",
       "    <tr>\n",
       "      <th>Lublin<\/th>\n",
       "      <td>8<\/td>\n",
       "      <td>9<\/td>\n",
       "      <td>10<\/td>\n",
       "      <td>11<\/td>\n",
       "    <\/tr>\n",
       "    <tr>\n",
       "      <th>Katowice<\/th>\n",
       "      <td>12<\/td>\n",
       "      <td>13<\/td>\n",
       "      <td>14<\/td>\n",
       "      <td>15<\/td>\n",
       "    <\/tr>\n",
       "  <\/tbody>\n",
       "<\/table>\n",
       "<\/div>"
      ]
     },
     "metadata":{
      
     },
     "output_type":"display_data"
    }
   ],
   "metadata":{
    "datalore":{
     "node_id":"oI8U43A8CavfBSo3nF0d4Y",
     "type":"CODE",
     "hide_input_from_viewers":true,
     "hide_output_from_viewers":true
    }
   }
  },
  {
   "cell_type":"code",
   "source":[
    "data['cecha_2']"
   ],
   "execution_count":47,
   "outputs":[
    {
     "data":{
      "text\/html":[
       "<pre>Kraków       1\n",
       "Warszawa     5\n",
       "Lublin       9\n",
       "Katowice    13\n",
       "Name: cecha_2, dtype: int64<\/pre>"
      ]
     },
     "metadata":{
      
     },
     "output_type":"display_data"
    }
   ],
   "metadata":{
    "datalore":{
     "node_id":"XFy3EJMLAopAlrAlislvVr",
     "type":"CODE",
     "hide_input_from_viewers":true,
     "hide_output_from_viewers":true
    }
   }
  },
  {
   "cell_type":"code",
   "source":[
    "data.loc['Kraków',['cecha_1','cecha_3']]"
   ],
   "execution_count":49,
   "outputs":[
    {
     "data":{
      "text\/html":[
       "<pre>cecha_1    0\n",
       "cecha_3    2\n",
       "Name: Kraków, dtype: int64<\/pre>"
      ]
     },
     "metadata":{
      
     },
     "output_type":"display_data"
    }
   ],
   "metadata":{
    "datalore":{
     "node_id":"ujtPcLQtsEfgxAmAqcscjv",
     "type":"CODE",
     "hide_input_from_viewers":true,
     "hide_output_from_viewers":true
    }
   }
  },
  {
   "cell_type":"code",
   "source":[
    "data.iloc[2,[3,0,1]]"
   ],
   "execution_count":50,
   "outputs":[
    {
     "data":{
      "text\/html":[
       "<pre>cecha_4    11\n",
       "cecha_1     8\n",
       "cecha_2     9\n",
       "Name: Lublin, dtype: int64<\/pre>"
      ]
     },
     "metadata":{
      
     },
     "output_type":"display_data"
    }
   ],
   "metadata":{
    "datalore":{
     "node_id":"X7DO4G40tifPcYyjmcn9UY",
     "type":"CODE",
     "hide_input_from_viewers":true,
     "hide_output_from_viewers":true
    }
   }
  },
  {
   "cell_type":"code",
   "source":[
    "data.iloc[[1,2],[3,1,0]]"
   ],
   "execution_count":51,
   "outputs":[
    {
     "data":{
      "text\/html":[
       "<div>\n",
       "<style scoped>\n",
       "    .dataframe tbody tr th:only-of-type {\n",
       "        vertical-align: middle;\n",
       "    }\n",
       "\n",
       "    .dataframe tbody tr th {\n",
       "        vertical-align: top;\n",
       "    }\n",
       "\n",
       "    .dataframe thead th {\n",
       "        text-align: right;\n",
       "    }\n",
       "<\/style>\n",
       "<table border=\"1\" class=\"dataframe\">\n",
       "  <thead>\n",
       "    <tr style=\"text-align: right;\">\n",
       "      <th><\/th>\n",
       "      <th>cecha_4<\/th>\n",
       "      <th>cecha_2<\/th>\n",
       "      <th>cecha_1<\/th>\n",
       "    <\/tr>\n",
       "  <\/thead>\n",
       "  <tbody>\n",
       "    <tr>\n",
       "      <th>Warszawa<\/th>\n",
       "      <td>7<\/td>\n",
       "      <td>5<\/td>\n",
       "      <td>4<\/td>\n",
       "    <\/tr>\n",
       "    <tr>\n",
       "      <th>Lublin<\/th>\n",
       "      <td>11<\/td>\n",
       "      <td>9<\/td>\n",
       "      <td>8<\/td>\n",
       "    <\/tr>\n",
       "  <\/tbody>\n",
       "<\/table>\n",
       "<\/div>"
      ]
     },
     "metadata":{
      
     },
     "output_type":"display_data"
    }
   ],
   "metadata":{
    "datalore":{
     "node_id":"RiCgrKZdjR7V9S4UnCXNmm",
     "type":"CODE",
     "hide_input_from_viewers":true,
     "hide_output_from_viewers":true
    }
   }
  },
  {
   "cell_type":"code",
   "source":[
    "data.loc[:\"Lublin\",\"cecha_4\"]"
   ],
   "execution_count":52,
   "outputs":[
    {
     "data":{
      "text\/html":[
       "<pre>Kraków       3\n",
       "Warszawa     7\n",
       "Lublin      11\n",
       "Name: cecha_4, dtype: int64<\/pre>"
      ]
     },
     "metadata":{
      
     },
     "output_type":"display_data"
    }
   ],
   "metadata":{
    "datalore":{
     "node_id":"FQVHZneSwD9vJUsOkfmigq",
     "type":"CODE",
     "hide_input_from_viewers":true,
     "hide_output_from_viewers":true
    }
   }
  },
  {
   "cell_type":"code",
   "source":[
    "data.iloc[:,:3][data.cecha_3>10]"
   ],
   "execution_count":53,
   "outputs":[
    {
     "data":{
      "text\/html":[
       "<div>\n",
       "<style scoped>\n",
       "    .dataframe tbody tr th:only-of-type {\n",
       "        vertical-align: middle;\n",
       "    }\n",
       "\n",
       "    .dataframe tbody tr th {\n",
       "        vertical-align: top;\n",
       "    }\n",
       "\n",
       "    .dataframe thead th {\n",
       "        text-align: right;\n",
       "    }\n",
       "<\/style>\n",
       "<table border=\"1\" class=\"dataframe\">\n",
       "  <thead>\n",
       "    <tr style=\"text-align: right;\">\n",
       "      <th><\/th>\n",
       "      <th>cecha_1<\/th>\n",
       "      <th>cecha_2<\/th>\n",
       "      <th>cecha_3<\/th>\n",
       "    <\/tr>\n",
       "  <\/thead>\n",
       "  <tbody>\n",
       "    <tr>\n",
       "      <th>Katowice<\/th>\n",
       "      <td>12<\/td>\n",
       "      <td>13<\/td>\n",
       "      <td>14<\/td>\n",
       "    <\/tr>\n",
       "  <\/tbody>\n",
       "<\/table>\n",
       "<\/div>"
      ]
     },
     "metadata":{
      
     },
     "output_type":"display_data"
    }
   ],
   "metadata":{
    "datalore":{
     "node_id":"vdDREAk5BYDMklyV674sHY",
     "type":"CODE",
     "hide_input_from_viewers":true,
     "hide_output_from_viewers":true
    }
   }
  }
 ],
 "metadata":{
  "kernelspec":{
   "display_name":"Python",
   "language":"python",
   "name":"python"
  },
  "datalore":{
   "computation_mode":"JUPYTER",
   "package_manager":"pip",
   "base_environment":"default",
   "packages":[
    
   ],
   "report_row_ids":[
    
   ],
   "version":3
  }
 },
 "nbformat":4,
 "nbformat_minor":4
}