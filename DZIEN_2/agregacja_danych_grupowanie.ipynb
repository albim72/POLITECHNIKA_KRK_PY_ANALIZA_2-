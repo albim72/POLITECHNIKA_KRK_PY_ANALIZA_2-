{
 "cells":[
  {
   "cell_type":"code",
   "source":[
    "import numpy as np\n",
    "import pandas as pd\n",
    "import matplotlib.pyplot as plt\n",
    "np.set_printoptions(precision=4,suppress=True)"
   ],
   "execution_count":1,
   "outputs":[
    
   ],
   "metadata":{
    "datalore":{
     "node_id":"S96lGgRvaeYx7Ga4cYg1Hc",
     "type":"CODE",
     "hide_input_from_viewers":true,
     "hide_output_from_viewers":true
    }
   }
  },
  {
   "cell_type":"code",
   "source":[
    "#mechanika interfejsu grupowania\n",
    "df = pd.DataFrame({\n",
    "    'klucz1':['a','a','b','b','a'],\n",
    "    'klucz2':['jeden','dwa','jeden','dwa','jeden'],\n",
    "    'dane1':np.random.randn(5),\n",
    "    'dane2':np.random.randn(5)\n",
    "})\n",
    "\n",
    "df"
   ],
   "execution_count":2,
   "outputs":[
    {
     "data":{
      "text\/html":[
       "<div>\n",
       "<style scoped>\n",
       "    .dataframe tbody tr th:only-of-type {\n",
       "        vertical-align: middle;\n",
       "    }\n",
       "\n",
       "    .dataframe tbody tr th {\n",
       "        vertical-align: top;\n",
       "    }\n",
       "\n",
       "    .dataframe thead th {\n",
       "        text-align: right;\n",
       "    }\n",
       "<\/style>\n",
       "<table border=\"1\" class=\"dataframe\">\n",
       "  <thead>\n",
       "    <tr style=\"text-align: right;\">\n",
       "      <th><\/th>\n",
       "      <th>klucz1<\/th>\n",
       "      <th>klucz2<\/th>\n",
       "      <th>dane1<\/th>\n",
       "      <th>dane2<\/th>\n",
       "    <\/tr>\n",
       "  <\/thead>\n",
       "  <tbody>\n",
       "    <tr>\n",
       "      <th>0<\/th>\n",
       "      <td>a<\/td>\n",
       "      <td>jeden<\/td>\n",
       "      <td>-2.209325<\/td>\n",
       "      <td>0.354725<\/td>\n",
       "    <\/tr>\n",
       "    <tr>\n",
       "      <th>1<\/th>\n",
       "      <td>a<\/td>\n",
       "      <td>dwa<\/td>\n",
       "      <td>-1.096611<\/td>\n",
       "      <td>-0.510364<\/td>\n",
       "    <\/tr>\n",
       "    <tr>\n",
       "      <th>2<\/th>\n",
       "      <td>b<\/td>\n",
       "      <td>jeden<\/td>\n",
       "      <td>0.337403<\/td>\n",
       "      <td>-0.698988<\/td>\n",
       "    <\/tr>\n",
       "    <tr>\n",
       "      <th>3<\/th>\n",
       "      <td>b<\/td>\n",
       "      <td>dwa<\/td>\n",
       "      <td>-0.020412<\/td>\n",
       "      <td>-1.469897<\/td>\n",
       "    <\/tr>\n",
       "    <tr>\n",
       "      <th>4<\/th>\n",
       "      <td>a<\/td>\n",
       "      <td>jeden<\/td>\n",
       "      <td>-0.488067<\/td>\n",
       "      <td>-0.787495<\/td>\n",
       "    <\/tr>\n",
       "  <\/tbody>\n",
       "<\/table>\n",
       "<\/div>"
      ]
     },
     "metadata":{
      
     },
     "output_type":"display_data"
    }
   ],
   "metadata":{
    "datalore":{
     "node_id":"i5NpCrNGO4BRph1ZZ7eXfl",
     "type":"CODE",
     "hide_input_from_viewers":true,
     "hide_output_from_viewers":true
    }
   }
  },
  {
   "cell_type":"code",
   "source":[
    "grouped = df['dane1'].groupby(df['klucz1'])\n",
    "grouped"
   ],
   "execution_count":3,
   "outputs":[
    {
     "data":{
      "text\/plain":[
       "<pandas.core.groupby.generic.SeriesGroupBy object at 0x7f2eabb43d60>"
      ]
     },
     "metadata":{
      
     },
     "output_type":"display_data"
    }
   ],
   "metadata":{
    "datalore":{
     "node_id":"YxsSaaJJEiBOlm7Jg0QW9a",
     "type":"CODE",
     "hide_input_from_viewers":true,
     "hide_output_from_viewers":true
    }
   }
  },
  {
   "cell_type":"code",
   "source":[
    "grouped.mean()"
   ],
   "execution_count":4,
   "outputs":[
    {
     "data":{
      "text\/html":[
       "<pre>klucz1\n",
       "a   -1.264668\n",
       "b    0.158496\n",
       "Name: dane1, dtype: float64<\/pre>"
      ]
     },
     "metadata":{
      
     },
     "output_type":"display_data"
    }
   ],
   "metadata":{
    "datalore":{
     "node_id":"hv4rMcieqnaJkLcaEu1NQl",
     "type":"CODE",
     "hide_input_from_viewers":true,
     "hide_output_from_viewers":true
    }
   }
  },
  {
   "cell_type":"code",
   "source":[
    "means = df['dane1'].groupby([df['klucz1'],df['klucz2']]).mean()\n",
    "means"
   ],
   "execution_count":5,
   "outputs":[
    {
     "data":{
      "text\/html":[
       "<pre>klucz1  klucz2\n",
       "a       dwa      -1.096611\n",
       "        jeden    -1.348696\n",
       "b       dwa      -0.020412\n",
       "        jeden     0.337403\n",
       "Name: dane1, dtype: float64<\/pre>"
      ]
     },
     "metadata":{
      
     },
     "output_type":"display_data"
    }
   ],
   "metadata":{
    "datalore":{
     "node_id":"iy2rihkX6028Fsxx47Ql48",
     "type":"CODE",
     "hide_input_from_viewers":true,
     "hide_output_from_viewers":true
    }
   }
  },
  {
   "cell_type":"code",
   "source":[
    "means.unstack()"
   ],
   "execution_count":6,
   "outputs":[
    {
     "data":{
      "text\/html":[
       "<div>\n",
       "<style scoped>\n",
       "    .dataframe tbody tr th:only-of-type {\n",
       "        vertical-align: middle;\n",
       "    }\n",
       "\n",
       "    .dataframe tbody tr th {\n",
       "        vertical-align: top;\n",
       "    }\n",
       "\n",
       "    .dataframe thead th {\n",
       "        text-align: right;\n",
       "    }\n",
       "<\/style>\n",
       "<table border=\"1\" class=\"dataframe\">\n",
       "  <thead>\n",
       "    <tr style=\"text-align: right;\">\n",
       "      <th>klucz2<\/th>\n",
       "      <th>dwa<\/th>\n",
       "      <th>jeden<\/th>\n",
       "    <\/tr>\n",
       "    <tr>\n",
       "      <th>klucz1<\/th>\n",
       "      <th><\/th>\n",
       "      <th><\/th>\n",
       "    <\/tr>\n",
       "  <\/thead>\n",
       "  <tbody>\n",
       "    <tr>\n",
       "      <th>a<\/th>\n",
       "      <td>-1.096611<\/td>\n",
       "      <td>-1.348696<\/td>\n",
       "    <\/tr>\n",
       "    <tr>\n",
       "      <th>b<\/th>\n",
       "      <td>-0.020412<\/td>\n",
       "      <td>0.337403<\/td>\n",
       "    <\/tr>\n",
       "  <\/tbody>\n",
       "<\/table>\n",
       "<\/div>"
      ]
     },
     "metadata":{
      
     },
     "output_type":"display_data"
    }
   ],
   "metadata":{
    "datalore":{
     "node_id":"mgMs2bg2erKLWA2pciRqJm",
     "type":"CODE",
     "hide_input_from_viewers":true,
     "hide_output_from_viewers":true
    }
   }
  },
  {
   "cell_type":"code",
   "source":[
    "woj = np.array(['mazowieckie','małopolskie','lubelskie','pomorskie','śląskie'])\n",
    "lata = np.array([2018,2018,2020,2018,2020])\n",
    "i = df['dane1'].groupby([woj,lata]).mean()"
   ],
   "execution_count":9,
   "outputs":[
    
   ],
   "metadata":{
    "datalore":{
     "node_id":"wYJhnemQUZ8Al4lhXBFwi6",
     "type":"CODE",
     "hide_input_from_viewers":true,
     "hide_output_from_viewers":true
    }
   }
  },
  {
   "cell_type":"code",
   "source":[
    "i.unstack()"
   ],
   "execution_count":10,
   "outputs":[
    {
     "data":{
      "text\/html":[
       "<div>\n",
       "<style scoped>\n",
       "    .dataframe tbody tr th:only-of-type {\n",
       "        vertical-align: middle;\n",
       "    }\n",
       "\n",
       "    .dataframe tbody tr th {\n",
       "        vertical-align: top;\n",
       "    }\n",
       "\n",
       "    .dataframe thead th {\n",
       "        text-align: right;\n",
       "    }\n",
       "<\/style>\n",
       "<table border=\"1\" class=\"dataframe\">\n",
       "  <thead>\n",
       "    <tr style=\"text-align: right;\">\n",
       "      <th><\/th>\n",
       "      <th>2018<\/th>\n",
       "      <th>2020<\/th>\n",
       "    <\/tr>\n",
       "  <\/thead>\n",
       "  <tbody>\n",
       "    <tr>\n",
       "      <th>lubelskie<\/th>\n",
       "      <td>NaN<\/td>\n",
       "      <td>0.337403<\/td>\n",
       "    <\/tr>\n",
       "    <tr>\n",
       "      <th>mazowieckie<\/th>\n",
       "      <td>-2.209325<\/td>\n",
       "      <td>NaN<\/td>\n",
       "    <\/tr>\n",
       "    <tr>\n",
       "      <th>małopolskie<\/th>\n",
       "      <td>-1.096611<\/td>\n",
       "      <td>NaN<\/td>\n",
       "    <\/tr>\n",
       "    <tr>\n",
       "      <th>pomorskie<\/th>\n",
       "      <td>-0.020412<\/td>\n",
       "      <td>NaN<\/td>\n",
       "    <\/tr>\n",
       "    <tr>\n",
       "      <th>śląskie<\/th>\n",
       "      <td>NaN<\/td>\n",
       "      <td>-0.488067<\/td>\n",
       "    <\/tr>\n",
       "  <\/tbody>\n",
       "<\/table>\n",
       "<\/div>"
      ]
     },
     "metadata":{
      
     },
     "output_type":"display_data"
    }
   ],
   "metadata":{
    "datalore":{
     "node_id":"ylL3ZNkjBySGlSp3yQhZuF",
     "type":"CODE",
     "hide_input_from_viewers":true,
     "hide_output_from_viewers":true
    }
   }
  },
  {
   "cell_type":"code",
   "source":[
    "for name,group in df.groupby('klucz1'):\n",
    "    print(name)\n",
    "    print(group)"
   ],
   "execution_count":11,
   "outputs":[
    {
     "name":"stdout",
     "text":[
      "a\n",
      "  klucz1 klucz2     dane1     dane2\n",
      "0      a  jeden -2.209325  0.354725\n",
      "1      a    dwa -1.096611 -0.510364\n",
      "4      a  jeden -0.488067 -0.787495\n",
      "b\n",
      "  klucz1 klucz2     dane1     dane2\n",
      "2      b  jeden  0.337403 -0.698988\n",
      "3      b    dwa -0.020412 -1.469897\n"
     ],
     "output_type":"stream"
    }
   ],
   "metadata":{
    "datalore":{
     "node_id":"IylZZEaRFPCWRUhv6qyhuK",
     "type":"CODE",
     "hide_input_from_viewers":true,
     "hide_output_from_viewers":true
    }
   }
  },
  {
   "cell_type":"code",
   "source":[
    "pieces = dict(list(df.groupby('klucz1')))\n",
    "pieces['b']"
   ],
   "execution_count":12,
   "outputs":[
    {
     "data":{
      "text\/html":[
       "<div>\n",
       "<style scoped>\n",
       "    .dataframe tbody tr th:only-of-type {\n",
       "        vertical-align: middle;\n",
       "    }\n",
       "\n",
       "    .dataframe tbody tr th {\n",
       "        vertical-align: top;\n",
       "    }\n",
       "\n",
       "    .dataframe thead th {\n",
       "        text-align: right;\n",
       "    }\n",
       "<\/style>\n",
       "<table border=\"1\" class=\"dataframe\">\n",
       "  <thead>\n",
       "    <tr style=\"text-align: right;\">\n",
       "      <th><\/th>\n",
       "      <th>klucz1<\/th>\n",
       "      <th>klucz2<\/th>\n",
       "      <th>dane1<\/th>\n",
       "      <th>dane2<\/th>\n",
       "    <\/tr>\n",
       "  <\/thead>\n",
       "  <tbody>\n",
       "    <tr>\n",
       "      <th>2<\/th>\n",
       "      <td>b<\/td>\n",
       "      <td>jeden<\/td>\n",
       "      <td>0.337403<\/td>\n",
       "      <td>-0.698988<\/td>\n",
       "    <\/tr>\n",
       "    <tr>\n",
       "      <th>3<\/th>\n",
       "      <td>b<\/td>\n",
       "      <td>dwa<\/td>\n",
       "      <td>-0.020412<\/td>\n",
       "      <td>-1.469897<\/td>\n",
       "    <\/tr>\n",
       "  <\/tbody>\n",
       "<\/table>\n",
       "<\/div>"
      ]
     },
     "metadata":{
      
     },
     "output_type":"display_data"
    }
   ],
   "metadata":{
    "datalore":{
     "node_id":"h3XcCoRQHEMVfqFT5GHeqV",
     "type":"CODE",
     "hide_input_from_viewers":true,
     "hide_output_from_viewers":true
    }
   }
  },
  {
   "cell_type":"code",
   "source":[
    "people = pd.DataFrame(np.random.randn(5,5),\n",
    "                      columns=['a','b','c','d','e'],\n",
    "                      index=['Leon','Filip','Anna','Olga','Nadia'])\n",
    "\n",
    "people.iloc[2:3,[1,2]] = np.nan\n",
    "people"
   ],
   "execution_count":13,
   "outputs":[
    {
     "data":{
      "text\/html":[
       "<div>\n",
       "<style scoped>\n",
       "    .dataframe tbody tr th:only-of-type {\n",
       "        vertical-align: middle;\n",
       "    }\n",
       "\n",
       "    .dataframe tbody tr th {\n",
       "        vertical-align: top;\n",
       "    }\n",
       "\n",
       "    .dataframe thead th {\n",
       "        text-align: right;\n",
       "    }\n",
       "<\/style>\n",
       "<table border=\"1\" class=\"dataframe\">\n",
       "  <thead>\n",
       "    <tr style=\"text-align: right;\">\n",
       "      <th><\/th>\n",
       "      <th>a<\/th>\n",
       "      <th>b<\/th>\n",
       "      <th>c<\/th>\n",
       "      <th>d<\/th>\n",
       "      <th>e<\/th>\n",
       "    <\/tr>\n",
       "  <\/thead>\n",
       "  <tbody>\n",
       "    <tr>\n",
       "      <th>Leon<\/th>\n",
       "      <td>-0.307499<\/td>\n",
       "      <td>-0.596149<\/td>\n",
       "      <td>0.361902<\/td>\n",
       "      <td>0.838119<\/td>\n",
       "      <td>0.909626<\/td>\n",
       "    <\/tr>\n",
       "    <tr>\n",
       "      <th>Filip<\/th>\n",
       "      <td>1.711974<\/td>\n",
       "      <td>-0.263929<\/td>\n",
       "      <td>-1.609838<\/td>\n",
       "      <td>-1.354237<\/td>\n",
       "      <td>-0.801609<\/td>\n",
       "    <\/tr>\n",
       "    <tr>\n",
       "      <th>Anna<\/th>\n",
       "      <td>-2.146822<\/td>\n",
       "      <td>NaN<\/td>\n",
       "      <td>NaN<\/td>\n",
       "      <td>0.042898<\/td>\n",
       "      <td>-1.130398<\/td>\n",
       "    <\/tr>\n",
       "    <tr>\n",
       "      <th>Olga<\/th>\n",
       "      <td>1.726879<\/td>\n",
       "      <td>-1.072919<\/td>\n",
       "      <td>-0.884700<\/td>\n",
       "      <td>0.783270<\/td>\n",
       "      <td>0.158732<\/td>\n",
       "    <\/tr>\n",
       "    <tr>\n",
       "      <th>Nadia<\/th>\n",
       "      <td>-0.794622<\/td>\n",
       "      <td>-1.346040<\/td>\n",
       "      <td>0.110415<\/td>\n",
       "      <td>0.156495<\/td>\n",
       "      <td>0.066343<\/td>\n",
       "    <\/tr>\n",
       "  <\/tbody>\n",
       "<\/table>\n",
       "<\/div>"
      ]
     },
     "metadata":{
      
     },
     "output_type":"display_data"
    }
   ],
   "metadata":{
    "datalore":{
     "node_id":"iHCH6kUaDy6TfjQuZhGHST",
     "type":"CODE",
     "hide_input_from_viewers":true,
     "hide_output_from_viewers":true
    }
   }
  },
  {
   "cell_type":"code",
   "source":[
    "mapping = {\n",
    "    'a':'czerwony',\n",
    "    'b':'czerwony',\n",
    "    'c':'niebieski',\n",
    "    'd':'niebieski',\n",
    "    'e':'czerwony',\n",
    "    'f':'pomarańczowy'\n",
    "}"
   ],
   "execution_count":14,
   "outputs":[
    
   ],
   "metadata":{
    "datalore":{
     "node_id":"dRGuTK7iJY6hliIiJrr8y5",
     "type":"CODE",
     "hide_input_from_viewers":true,
     "hide_output_from_viewers":true
    }
   }
  },
  {
   "cell_type":"code",
   "source":[
    "by_column = people.groupby(mapping,axis=1)\n",
    "by_column.sum()"
   ],
   "execution_count":15,
   "outputs":[
    {
     "data":{
      "text\/html":[
       "<div>\n",
       "<style scoped>\n",
       "    .dataframe tbody tr th:only-of-type {\n",
       "        vertical-align: middle;\n",
       "    }\n",
       "\n",
       "    .dataframe tbody tr th {\n",
       "        vertical-align: top;\n",
       "    }\n",
       "\n",
       "    .dataframe thead th {\n",
       "        text-align: right;\n",
       "    }\n",
       "<\/style>\n",
       "<table border=\"1\" class=\"dataframe\">\n",
       "  <thead>\n",
       "    <tr style=\"text-align: right;\">\n",
       "      <th><\/th>\n",
       "      <th>czerwony<\/th>\n",
       "      <th>niebieski<\/th>\n",
       "    <\/tr>\n",
       "  <\/thead>\n",
       "  <tbody>\n",
       "    <tr>\n",
       "      <th>Leon<\/th>\n",
       "      <td>0.005978<\/td>\n",
       "      <td>1.200021<\/td>\n",
       "    <\/tr>\n",
       "    <tr>\n",
       "      <th>Filip<\/th>\n",
       "      <td>0.646436<\/td>\n",
       "      <td>-2.964074<\/td>\n",
       "    <\/tr>\n",
       "    <tr>\n",
       "      <th>Anna<\/th>\n",
       "      <td>-3.277220<\/td>\n",
       "      <td>0.042898<\/td>\n",
       "    <\/tr>\n",
       "    <tr>\n",
       "      <th>Olga<\/th>\n",
       "      <td>0.812692<\/td>\n",
       "      <td>-0.101430<\/td>\n",
       "    <\/tr>\n",
       "    <tr>\n",
       "      <th>Nadia<\/th>\n",
       "      <td>-2.074318<\/td>\n",
       "      <td>0.266910<\/td>\n",
       "    <\/tr>\n",
       "  <\/tbody>\n",
       "<\/table>\n",
       "<\/div>"
      ]
     },
     "metadata":{
      
     },
     "output_type":"display_data"
    }
   ],
   "metadata":{
    "datalore":{
     "node_id":"d6qWRXptObXANf469FAk13",
     "type":"CODE",
     "hide_input_from_viewers":true,
     "hide_output_from_viewers":true
    }
   }
  },
  {
   "cell_type":"code",
   "source":[
    "people.groupby(pd.Series(mapping),axis=1).count()"
   ],
   "execution_count":16,
   "outputs":[
    {
     "data":{
      "text\/html":[
       "<div>\n",
       "<style scoped>\n",
       "    .dataframe tbody tr th:only-of-type {\n",
       "        vertical-align: middle;\n",
       "    }\n",
       "\n",
       "    .dataframe tbody tr th {\n",
       "        vertical-align: top;\n",
       "    }\n",
       "\n",
       "    .dataframe thead th {\n",
       "        text-align: right;\n",
       "    }\n",
       "<\/style>\n",
       "<table border=\"1\" class=\"dataframe\">\n",
       "  <thead>\n",
       "    <tr style=\"text-align: right;\">\n",
       "      <th><\/th>\n",
       "      <th>czerwony<\/th>\n",
       "      <th>niebieski<\/th>\n",
       "    <\/tr>\n",
       "  <\/thead>\n",
       "  <tbody>\n",
       "    <tr>\n",
       "      <th>Leon<\/th>\n",
       "      <td>3<\/td>\n",
       "      <td>2<\/td>\n",
       "    <\/tr>\n",
       "    <tr>\n",
       "      <th>Filip<\/th>\n",
       "      <td>3<\/td>\n",
       "      <td>2<\/td>\n",
       "    <\/tr>\n",
       "    <tr>\n",
       "      <th>Anna<\/th>\n",
       "      <td>2<\/td>\n",
       "      <td>1<\/td>\n",
       "    <\/tr>\n",
       "    <tr>\n",
       "      <th>Olga<\/th>\n",
       "      <td>3<\/td>\n",
       "      <td>2<\/td>\n",
       "    <\/tr>\n",
       "    <tr>\n",
       "      <th>Nadia<\/th>\n",
       "      <td>3<\/td>\n",
       "      <td>2<\/td>\n",
       "    <\/tr>\n",
       "  <\/tbody>\n",
       "<\/table>\n",
       "<\/div>"
      ]
     },
     "metadata":{
      
     },
     "output_type":"display_data"
    }
   ],
   "metadata":{
    "datalore":{
     "node_id":"J8q8as79Zwh5JXkHHQGKni",
     "type":"CODE",
     "hide_input_from_viewers":true,
     "hide_output_from_viewers":true
    }
   }
  }
 ],
 "metadata":{
  "kernelspec":{
   "display_name":"Python",
   "language":"python",
   "name":"python"
  },
  "datalore":{
   "computation_mode":"JUPYTER",
   "package_manager":"pip",
   "base_environment":"default",
   "packages":[
    
   ],
   "report_row_ids":[
    
   ],
   "version":3
  }
 },
 "nbformat":4,
 "nbformat_minor":4
}