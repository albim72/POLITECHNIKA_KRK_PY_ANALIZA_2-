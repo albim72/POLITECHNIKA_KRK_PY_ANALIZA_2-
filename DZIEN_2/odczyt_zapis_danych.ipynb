{
 "cells":[
  {
   "cell_type":"code",
   "source":[
    "import numpy as np\n",
    "import pandas as pd\n",
    "import matplotlib.pyplot as plt\n",
    "np.random.seed(12345)\n",
    "%matplotlib inline\n",
    "plt.rc('figure',figsize=(10,6))\n",
    "np.set_printoptions(precision=4,suppress=True)"
   ],
   "execution_count":1,
   "outputs":[
    
   ],
   "metadata":{
    "datalore":{
     "node_id":"TJYVgyscYjAnpo1xlGeqzs",
     "type":"CODE",
     "hide_input_from_viewers":true,
     "hide_output_from_viewers":true
    }
   }
  },
  {
   "cell_type":"code",
   "source":[
    "!cat przyklady\/ex1.csv"
   ],
   "execution_count":3,
   "outputs":[
    {
     "name":"stdout",
     "text":[
      "a,b,c,d,message\r\n",
      "1,2,3,4,hello\r\n",
      "5,6,7,8,world\r\n",
      "9,10,11,12,foo"
     ],
     "output_type":"stream"
    }
   ],
   "metadata":{
    "datalore":{
     "node_id":"C2PBERBGcDc7K3rLluhLCf",
     "type":"CODE",
     "hide_input_from_viewers":true,
     "hide_output_from_viewers":true
    }
   }
  },
  {
   "cell_type":"code",
   "source":[
    "df = pd.read_csv('przyklady\/ex1.csv')\n",
    "df"
   ],
   "execution_count":4,
   "outputs":[
    {
     "data":{
      "text\/html":[
       "<div>\n",
       "<style scoped>\n",
       "    .dataframe tbody tr th:only-of-type {\n",
       "        vertical-align: middle;\n",
       "    }\n",
       "\n",
       "    .dataframe tbody tr th {\n",
       "        vertical-align: top;\n",
       "    }\n",
       "\n",
       "    .dataframe thead th {\n",
       "        text-align: right;\n",
       "    }\n",
       "<\/style>\n",
       "<table border=\"1\" class=\"dataframe\">\n",
       "  <thead>\n",
       "    <tr style=\"text-align: right;\">\n",
       "      <th><\/th>\n",
       "      <th>a<\/th>\n",
       "      <th>b<\/th>\n",
       "      <th>c<\/th>\n",
       "      <th>d<\/th>\n",
       "      <th>message<\/th>\n",
       "    <\/tr>\n",
       "  <\/thead>\n",
       "  <tbody>\n",
       "    <tr>\n",
       "      <th>0<\/th>\n",
       "      <td>1<\/td>\n",
       "      <td>2<\/td>\n",
       "      <td>3<\/td>\n",
       "      <td>4<\/td>\n",
       "      <td>hello<\/td>\n",
       "    <\/tr>\n",
       "    <tr>\n",
       "      <th>1<\/th>\n",
       "      <td>5<\/td>\n",
       "      <td>6<\/td>\n",
       "      <td>7<\/td>\n",
       "      <td>8<\/td>\n",
       "      <td>world<\/td>\n",
       "    <\/tr>\n",
       "    <tr>\n",
       "      <th>2<\/th>\n",
       "      <td>9<\/td>\n",
       "      <td>10<\/td>\n",
       "      <td>11<\/td>\n",
       "      <td>12<\/td>\n",
       "      <td>foo<\/td>\n",
       "    <\/tr>\n",
       "  <\/tbody>\n",
       "<\/table>\n",
       "<\/div>"
      ]
     },
     "metadata":{
      
     },
     "output_type":"display_data"
    }
   ],
   "metadata":{
    "datalore":{
     "node_id":"njmnJ1NIUTcipEIR74SiEe",
     "type":"CODE",
     "hide_input_from_viewers":true,
     "hide_output_from_viewers":true
    }
   }
  },
  {
   "cell_type":"code",
   "source":[
    "pd.read_table('przyklady\/ex1.csv',sep=',')"
   ],
   "execution_count":5,
   "outputs":[
    {
     "data":{
      "text\/html":[
       "<div>\n",
       "<style scoped>\n",
       "    .dataframe tbody tr th:only-of-type {\n",
       "        vertical-align: middle;\n",
       "    }\n",
       "\n",
       "    .dataframe tbody tr th {\n",
       "        vertical-align: top;\n",
       "    }\n",
       "\n",
       "    .dataframe thead th {\n",
       "        text-align: right;\n",
       "    }\n",
       "<\/style>\n",
       "<table border=\"1\" class=\"dataframe\">\n",
       "  <thead>\n",
       "    <tr style=\"text-align: right;\">\n",
       "      <th><\/th>\n",
       "      <th>a<\/th>\n",
       "      <th>b<\/th>\n",
       "      <th>c<\/th>\n",
       "      <th>d<\/th>\n",
       "      <th>message<\/th>\n",
       "    <\/tr>\n",
       "  <\/thead>\n",
       "  <tbody>\n",
       "    <tr>\n",
       "      <th>0<\/th>\n",
       "      <td>1<\/td>\n",
       "      <td>2<\/td>\n",
       "      <td>3<\/td>\n",
       "      <td>4<\/td>\n",
       "      <td>hello<\/td>\n",
       "    <\/tr>\n",
       "    <tr>\n",
       "      <th>1<\/th>\n",
       "      <td>5<\/td>\n",
       "      <td>6<\/td>\n",
       "      <td>7<\/td>\n",
       "      <td>8<\/td>\n",
       "      <td>world<\/td>\n",
       "    <\/tr>\n",
       "    <tr>\n",
       "      <th>2<\/th>\n",
       "      <td>9<\/td>\n",
       "      <td>10<\/td>\n",
       "      <td>11<\/td>\n",
       "      <td>12<\/td>\n",
       "      <td>foo<\/td>\n",
       "    <\/tr>\n",
       "  <\/tbody>\n",
       "<\/table>\n",
       "<\/div>"
      ]
     },
     "metadata":{
      
     },
     "output_type":"display_data"
    }
   ],
   "metadata":{
    "datalore":{
     "node_id":"oI11nRqqFJwjUjwk6aFnfU",
     "type":"CODE",
     "hide_input_from_viewers":true,
     "hide_output_from_viewers":true
    }
   }
  },
  {
   "cell_type":"code",
   "source":[
    "!cat przyklady\/ex2.csv"
   ],
   "execution_count":6,
   "outputs":[
    {
     "name":"stdout",
     "text":[
      "1,2,3,4,hello\r\n",
      "5,6,7,8,world\r\n",
      "9,10,11,12,foo"
     ],
     "output_type":"stream"
    }
   ],
   "metadata":{
    "datalore":{
     "node_id":"DVp6tvFH10eqj5MMBTIt0C",
     "type":"CODE",
     "hide_input_from_viewers":true,
     "hide_output_from_viewers":true
    }
   }
  },
  {
   "cell_type":"code",
   "source":[
    "pd.read_csv('przyklady\/ex2.csv',header=None)"
   ],
   "execution_count":7,
   "outputs":[
    {
     "data":{
      "text\/html":[
       "<div>\n",
       "<style scoped>\n",
       "    .dataframe tbody tr th:only-of-type {\n",
       "        vertical-align: middle;\n",
       "    }\n",
       "\n",
       "    .dataframe tbody tr th {\n",
       "        vertical-align: top;\n",
       "    }\n",
       "\n",
       "    .dataframe thead th {\n",
       "        text-align: right;\n",
       "    }\n",
       "<\/style>\n",
       "<table border=\"1\" class=\"dataframe\">\n",
       "  <thead>\n",
       "    <tr style=\"text-align: right;\">\n",
       "      <th><\/th>\n",
       "      <th>0<\/th>\n",
       "      <th>1<\/th>\n",
       "      <th>2<\/th>\n",
       "      <th>3<\/th>\n",
       "      <th>4<\/th>\n",
       "    <\/tr>\n",
       "  <\/thead>\n",
       "  <tbody>\n",
       "    <tr>\n",
       "      <th>0<\/th>\n",
       "      <td>1<\/td>\n",
       "      <td>2<\/td>\n",
       "      <td>3<\/td>\n",
       "      <td>4<\/td>\n",
       "      <td>hello<\/td>\n",
       "    <\/tr>\n",
       "    <tr>\n",
       "      <th>1<\/th>\n",
       "      <td>5<\/td>\n",
       "      <td>6<\/td>\n",
       "      <td>7<\/td>\n",
       "      <td>8<\/td>\n",
       "      <td>world<\/td>\n",
       "    <\/tr>\n",
       "    <tr>\n",
       "      <th>2<\/th>\n",
       "      <td>9<\/td>\n",
       "      <td>10<\/td>\n",
       "      <td>11<\/td>\n",
       "      <td>12<\/td>\n",
       "      <td>foo<\/td>\n",
       "    <\/tr>\n",
       "  <\/tbody>\n",
       "<\/table>\n",
       "<\/div>"
      ]
     },
     "metadata":{
      
     },
     "output_type":"display_data"
    }
   ],
   "metadata":{
    "datalore":{
     "node_id":"vuaKlKu9ZN7P8v1Vafc3Pw",
     "type":"CODE",
     "hide_input_from_viewers":true,
     "hide_output_from_viewers":true
    }
   }
  },
  {
   "cell_type":"code",
   "source":[
    "pd.read_csv('przyklady\/ex2.csv',names=['a','b','c','d','message'])"
   ],
   "execution_count":8,
   "outputs":[
    {
     "data":{
      "text\/html":[
       "<div>\n",
       "<style scoped>\n",
       "    .dataframe tbody tr th:only-of-type {\n",
       "        vertical-align: middle;\n",
       "    }\n",
       "\n",
       "    .dataframe tbody tr th {\n",
       "        vertical-align: top;\n",
       "    }\n",
       "\n",
       "    .dataframe thead th {\n",
       "        text-align: right;\n",
       "    }\n",
       "<\/style>\n",
       "<table border=\"1\" class=\"dataframe\">\n",
       "  <thead>\n",
       "    <tr style=\"text-align: right;\">\n",
       "      <th><\/th>\n",
       "      <th>a<\/th>\n",
       "      <th>b<\/th>\n",
       "      <th>c<\/th>\n",
       "      <th>d<\/th>\n",
       "      <th>message<\/th>\n",
       "    <\/tr>\n",
       "  <\/thead>\n",
       "  <tbody>\n",
       "    <tr>\n",
       "      <th>0<\/th>\n",
       "      <td>1<\/td>\n",
       "      <td>2<\/td>\n",
       "      <td>3<\/td>\n",
       "      <td>4<\/td>\n",
       "      <td>hello<\/td>\n",
       "    <\/tr>\n",
       "    <tr>\n",
       "      <th>1<\/th>\n",
       "      <td>5<\/td>\n",
       "      <td>6<\/td>\n",
       "      <td>7<\/td>\n",
       "      <td>8<\/td>\n",
       "      <td>world<\/td>\n",
       "    <\/tr>\n",
       "    <tr>\n",
       "      <th>2<\/th>\n",
       "      <td>9<\/td>\n",
       "      <td>10<\/td>\n",
       "      <td>11<\/td>\n",
       "      <td>12<\/td>\n",
       "      <td>foo<\/td>\n",
       "    <\/tr>\n",
       "  <\/tbody>\n",
       "<\/table>\n",
       "<\/div>"
      ]
     },
     "metadata":{
      
     },
     "output_type":"display_data"
    }
   ],
   "metadata":{
    "datalore":{
     "node_id":"nXLRHaSi3B10s767p1vzyq",
     "type":"CODE",
     "hide_input_from_viewers":true,
     "hide_output_from_viewers":true
    }
   }
  },
  {
   "cell_type":"code",
   "source":[
    "!cat przyklady\/csv_mindex.csv"
   ],
   "execution_count":9,
   "outputs":[
    {
     "name":"stdout",
     "text":[
      "key1,key2,value1,value2\r\n",
      "one,a,1,2\r\n",
      "one,b,3,4\r\n",
      "one,c,5,6\r\n",
      "one,d,7,8\r\n",
      "two,a,9,10\r\n",
      "two,b,11,12\r\n",
      "two,c,13,14\r\n",
      "two,d,15,16\r\n"
     ],
     "output_type":"stream"
    }
   ],
   "metadata":{
    "datalore":{
     "node_id":"89rozYKScAVchhCekuxRPH",
     "type":"CODE",
     "hide_input_from_viewers":true,
     "hide_output_from_viewers":true
    }
   }
  },
  {
   "cell_type":"code",
   "source":[
    "parsed = pd.read_csv('przyklady\/csv_mindex.csv',index_col=['key1','key2'])\n",
    "parsed"
   ],
   "execution_count":10,
   "outputs":[
    {
     "data":{
      "text\/html":[
       "<div>\n",
       "<style scoped>\n",
       "    .dataframe tbody tr th:only-of-type {\n",
       "        vertical-align: middle;\n",
       "    }\n",
       "\n",
       "    .dataframe tbody tr th {\n",
       "        vertical-align: top;\n",
       "    }\n",
       "\n",
       "    .dataframe thead th {\n",
       "        text-align: right;\n",
       "    }\n",
       "<\/style>\n",
       "<table border=\"1\" class=\"dataframe\">\n",
       "  <thead>\n",
       "    <tr style=\"text-align: right;\">\n",
       "      <th><\/th>\n",
       "      <th><\/th>\n",
       "      <th>value1<\/th>\n",
       "      <th>value2<\/th>\n",
       "    <\/tr>\n",
       "    <tr>\n",
       "      <th>key1<\/th>\n",
       "      <th>key2<\/th>\n",
       "      <th><\/th>\n",
       "      <th><\/th>\n",
       "    <\/tr>\n",
       "  <\/thead>\n",
       "  <tbody>\n",
       "    <tr>\n",
       "      <th rowspan=\"4\" valign=\"top\">one<\/th>\n",
       "      <th>a<\/th>\n",
       "      <td>1<\/td>\n",
       "      <td>2<\/td>\n",
       "    <\/tr>\n",
       "    <tr>\n",
       "      <th>b<\/th>\n",
       "      <td>3<\/td>\n",
       "      <td>4<\/td>\n",
       "    <\/tr>\n",
       "    <tr>\n",
       "      <th>c<\/th>\n",
       "      <td>5<\/td>\n",
       "      <td>6<\/td>\n",
       "    <\/tr>\n",
       "    <tr>\n",
       "      <th>d<\/th>\n",
       "      <td>7<\/td>\n",
       "      <td>8<\/td>\n",
       "    <\/tr>\n",
       "    <tr>\n",
       "      <th rowspan=\"4\" valign=\"top\">two<\/th>\n",
       "      <th>a<\/th>\n",
       "      <td>9<\/td>\n",
       "      <td>10<\/td>\n",
       "    <\/tr>\n",
       "    <tr>\n",
       "      <th>b<\/th>\n",
       "      <td>11<\/td>\n",
       "      <td>12<\/td>\n",
       "    <\/tr>\n",
       "    <tr>\n",
       "      <th>c<\/th>\n",
       "      <td>13<\/td>\n",
       "      <td>14<\/td>\n",
       "    <\/tr>\n",
       "    <tr>\n",
       "      <th>d<\/th>\n",
       "      <td>15<\/td>\n",
       "      <td>16<\/td>\n",
       "    <\/tr>\n",
       "  <\/tbody>\n",
       "<\/table>\n",
       "<\/div>"
      ]
     },
     "metadata":{
      
     },
     "output_type":"display_data"
    }
   ],
   "metadata":{
    "datalore":{
     "node_id":"8wlfGKuOr5dwrKLIyps4Xo",
     "type":"CODE",
     "hide_input_from_viewers":true,
     "hide_output_from_viewers":true
    }
   }
  },
  {
   "cell_type":"code",
   "source":[
    "result = pd.read_table('przyklady\/csv_mindex.csv',sep=',')\n",
    "result"
   ],
   "execution_count":11,
   "outputs":[
    {
     "data":{
      "text\/html":[
       "<div>\n",
       "<style scoped>\n",
       "    .dataframe tbody tr th:only-of-type {\n",
       "        vertical-align: middle;\n",
       "    }\n",
       "\n",
       "    .dataframe tbody tr th {\n",
       "        vertical-align: top;\n",
       "    }\n",
       "\n",
       "    .dataframe thead th {\n",
       "        text-align: right;\n",
       "    }\n",
       "<\/style>\n",
       "<table border=\"1\" class=\"dataframe\">\n",
       "  <thead>\n",
       "    <tr style=\"text-align: right;\">\n",
       "      <th><\/th>\n",
       "      <th>key1<\/th>\n",
       "      <th>key2<\/th>\n",
       "      <th>value1<\/th>\n",
       "      <th>value2<\/th>\n",
       "    <\/tr>\n",
       "  <\/thead>\n",
       "  <tbody>\n",
       "    <tr>\n",
       "      <th>0<\/th>\n",
       "      <td>one<\/td>\n",
       "      <td>a<\/td>\n",
       "      <td>1<\/td>\n",
       "      <td>2<\/td>\n",
       "    <\/tr>\n",
       "    <tr>\n",
       "      <th>1<\/th>\n",
       "      <td>one<\/td>\n",
       "      <td>b<\/td>\n",
       "      <td>3<\/td>\n",
       "      <td>4<\/td>\n",
       "    <\/tr>\n",
       "    <tr>\n",
       "      <th>2<\/th>\n",
       "      <td>one<\/td>\n",
       "      <td>c<\/td>\n",
       "      <td>5<\/td>\n",
       "      <td>6<\/td>\n",
       "    <\/tr>\n",
       "    <tr>\n",
       "      <th>3<\/th>\n",
       "      <td>one<\/td>\n",
       "      <td>d<\/td>\n",
       "      <td>7<\/td>\n",
       "      <td>8<\/td>\n",
       "    <\/tr>\n",
       "    <tr>\n",
       "      <th>4<\/th>\n",
       "      <td>two<\/td>\n",
       "      <td>a<\/td>\n",
       "      <td>9<\/td>\n",
       "      <td>10<\/td>\n",
       "    <\/tr>\n",
       "    <tr>\n",
       "      <th>5<\/th>\n",
       "      <td>two<\/td>\n",
       "      <td>b<\/td>\n",
       "      <td>11<\/td>\n",
       "      <td>12<\/td>\n",
       "    <\/tr>\n",
       "    <tr>\n",
       "      <th>6<\/th>\n",
       "      <td>two<\/td>\n",
       "      <td>c<\/td>\n",
       "      <td>13<\/td>\n",
       "      <td>14<\/td>\n",
       "    <\/tr>\n",
       "    <tr>\n",
       "      <th>7<\/th>\n",
       "      <td>two<\/td>\n",
       "      <td>d<\/td>\n",
       "      <td>15<\/td>\n",
       "      <td>16<\/td>\n",
       "    <\/tr>\n",
       "  <\/tbody>\n",
       "<\/table>\n",
       "<\/div>"
      ]
     },
     "metadata":{
      
     },
     "output_type":"display_data"
    }
   ],
   "metadata":{
    "datalore":{
     "node_id":"HSPKWz52kKbKu3LucZnV8G",
     "type":"CODE",
     "hide_input_from_viewers":true,
     "hide_output_from_viewers":true
    }
   }
  },
  {
   "cell_type":"code",
   "source":[
    "!cat przyklady\/ex4.csv"
   ],
   "execution_count":12,
   "outputs":[
    {
     "name":"stdout",
     "text":[
      "# Cześć!\r\n",
      "a,b,c,d,message\r\n",
      "# Chciałem tylko trochę utrudnić Twoją pracę.\r\n",
      "# Kto w ogóle wczytuje pliki CSV za pomocą komputera?\r\n",
      "1,2,3,4,hello\r\n",
      "5,6,7,8,world\r\n",
      "9,10,11,12,foo"
     ],
     "output_type":"stream"
    }
   ],
   "metadata":{
    "datalore":{
     "node_id":"kHT5h0OEil1fd0N33VPra6",
     "type":"CODE",
     "hide_input_from_viewers":true,
     "hide_output_from_viewers":true
    }
   }
  },
  {
   "cell_type":"code",
   "source":[
    "pd.read_csv('przyklady\/ex4.csv',skiprows=[0,2,3])"
   ],
   "execution_count":13,
   "outputs":[
    {
     "data":{
      "text\/html":[
       "<div>\n",
       "<style scoped>\n",
       "    .dataframe tbody tr th:only-of-type {\n",
       "        vertical-align: middle;\n",
       "    }\n",
       "\n",
       "    .dataframe tbody tr th {\n",
       "        vertical-align: top;\n",
       "    }\n",
       "\n",
       "    .dataframe thead th {\n",
       "        text-align: right;\n",
       "    }\n",
       "<\/style>\n",
       "<table border=\"1\" class=\"dataframe\">\n",
       "  <thead>\n",
       "    <tr style=\"text-align: right;\">\n",
       "      <th><\/th>\n",
       "      <th>a<\/th>\n",
       "      <th>b<\/th>\n",
       "      <th>c<\/th>\n",
       "      <th>d<\/th>\n",
       "      <th>message<\/th>\n",
       "    <\/tr>\n",
       "  <\/thead>\n",
       "  <tbody>\n",
       "    <tr>\n",
       "      <th>0<\/th>\n",
       "      <td>1<\/td>\n",
       "      <td>2<\/td>\n",
       "      <td>3<\/td>\n",
       "      <td>4<\/td>\n",
       "      <td>hello<\/td>\n",
       "    <\/tr>\n",
       "    <tr>\n",
       "      <th>1<\/th>\n",
       "      <td>5<\/td>\n",
       "      <td>6<\/td>\n",
       "      <td>7<\/td>\n",
       "      <td>8<\/td>\n",
       "      <td>world<\/td>\n",
       "    <\/tr>\n",
       "    <tr>\n",
       "      <th>2<\/th>\n",
       "      <td>9<\/td>\n",
       "      <td>10<\/td>\n",
       "      <td>11<\/td>\n",
       "      <td>12<\/td>\n",
       "      <td>foo<\/td>\n",
       "    <\/tr>\n",
       "  <\/tbody>\n",
       "<\/table>\n",
       "<\/div>"
      ]
     },
     "metadata":{
      
     },
     "output_type":"display_data"
    }
   ],
   "metadata":{
    "datalore":{
     "node_id":"tthS704cM20KSoLet9BEIG",
     "type":"CODE",
     "hide_input_from_viewers":true,
     "hide_output_from_viewers":true
    }
   }
  },
  {
   "cell_type":"code",
   "source":[
    "!cat przyklady\/ex5.csv"
   ],
   "execution_count":14,
   "outputs":[
    {
     "name":"stdout",
     "text":[
      "something,a,b,c,d,message\r\n",
      "one,1,2,3,4,NA\r\n",
      "two,5,6,,8,world\r\n",
      "three,9,10,11,12,foo"
     ],
     "output_type":"stream"
    }
   ],
   "metadata":{
    "datalore":{
     "node_id":"3lbvU7ERzGwnAiu2WKVpvm",
     "type":"CODE",
     "hide_input_from_viewers":true,
     "hide_output_from_viewers":true
    }
   }
  },
  {
   "cell_type":"code",
   "source":[
    "result = pd.read_csv('przyklady\/ex5.csv')\n",
    "result"
   ],
   "execution_count":15,
   "outputs":[
    {
     "data":{
      "text\/html":[
       "<div>\n",
       "<style scoped>\n",
       "    .dataframe tbody tr th:only-of-type {\n",
       "        vertical-align: middle;\n",
       "    }\n",
       "\n",
       "    .dataframe tbody tr th {\n",
       "        vertical-align: top;\n",
       "    }\n",
       "\n",
       "    .dataframe thead th {\n",
       "        text-align: right;\n",
       "    }\n",
       "<\/style>\n",
       "<table border=\"1\" class=\"dataframe\">\n",
       "  <thead>\n",
       "    <tr style=\"text-align: right;\">\n",
       "      <th><\/th>\n",
       "      <th>something<\/th>\n",
       "      <th>a<\/th>\n",
       "      <th>b<\/th>\n",
       "      <th>c<\/th>\n",
       "      <th>d<\/th>\n",
       "      <th>message<\/th>\n",
       "    <\/tr>\n",
       "  <\/thead>\n",
       "  <tbody>\n",
       "    <tr>\n",
       "      <th>0<\/th>\n",
       "      <td>one<\/td>\n",
       "      <td>1<\/td>\n",
       "      <td>2<\/td>\n",
       "      <td>3.0<\/td>\n",
       "      <td>4<\/td>\n",
       "      <td>NaN<\/td>\n",
       "    <\/tr>\n",
       "    <tr>\n",
       "      <th>1<\/th>\n",
       "      <td>two<\/td>\n",
       "      <td>5<\/td>\n",
       "      <td>6<\/td>\n",
       "      <td>NaN<\/td>\n",
       "      <td>8<\/td>\n",
       "      <td>world<\/td>\n",
       "    <\/tr>\n",
       "    <tr>\n",
       "      <th>2<\/th>\n",
       "      <td>three<\/td>\n",
       "      <td>9<\/td>\n",
       "      <td>10<\/td>\n",
       "      <td>11.0<\/td>\n",
       "      <td>12<\/td>\n",
       "      <td>foo<\/td>\n",
       "    <\/tr>\n",
       "  <\/tbody>\n",
       "<\/table>\n",
       "<\/div>"
      ]
     },
     "metadata":{
      
     },
     "output_type":"display_data"
    }
   ],
   "metadata":{
    "datalore":{
     "node_id":"skAy3GGMRAT0QPeeBJTPHl",
     "type":"CODE",
     "hide_input_from_viewers":true,
     "hide_output_from_viewers":true
    }
   }
  },
  {
   "cell_type":"code",
   "source":[
    "sentinels = {'message':['foo','NA'],'something':['two']}\n",
    "pd.read_csv('przyklady\/ex5.csv',na_values=sentinels)"
   ],
   "execution_count":16,
   "outputs":[
    {
     "data":{
      "text\/html":[
       "<div>\n",
       "<style scoped>\n",
       "    .dataframe tbody tr th:only-of-type {\n",
       "        vertical-align: middle;\n",
       "    }\n",
       "\n",
       "    .dataframe tbody tr th {\n",
       "        vertical-align: top;\n",
       "    }\n",
       "\n",
       "    .dataframe thead th {\n",
       "        text-align: right;\n",
       "    }\n",
       "<\/style>\n",
       "<table border=\"1\" class=\"dataframe\">\n",
       "  <thead>\n",
       "    <tr style=\"text-align: right;\">\n",
       "      <th><\/th>\n",
       "      <th>something<\/th>\n",
       "      <th>a<\/th>\n",
       "      <th>b<\/th>\n",
       "      <th>c<\/th>\n",
       "      <th>d<\/th>\n",
       "      <th>message<\/th>\n",
       "    <\/tr>\n",
       "  <\/thead>\n",
       "  <tbody>\n",
       "    <tr>\n",
       "      <th>0<\/th>\n",
       "      <td>one<\/td>\n",
       "      <td>1<\/td>\n",
       "      <td>2<\/td>\n",
       "      <td>3.0<\/td>\n",
       "      <td>4<\/td>\n",
       "      <td>NaN<\/td>\n",
       "    <\/tr>\n",
       "    <tr>\n",
       "      <th>1<\/th>\n",
       "      <td>NaN<\/td>\n",
       "      <td>5<\/td>\n",
       "      <td>6<\/td>\n",
       "      <td>NaN<\/td>\n",
       "      <td>8<\/td>\n",
       "      <td>world<\/td>\n",
       "    <\/tr>\n",
       "    <tr>\n",
       "      <th>2<\/th>\n",
       "      <td>three<\/td>\n",
       "      <td>9<\/td>\n",
       "      <td>10<\/td>\n",
       "      <td>11.0<\/td>\n",
       "      <td>12<\/td>\n",
       "      <td>NaN<\/td>\n",
       "    <\/tr>\n",
       "  <\/tbody>\n",
       "<\/table>\n",
       "<\/div>"
      ]
     },
     "metadata":{
      
     },
     "output_type":"display_data"
    }
   ],
   "metadata":{
    "datalore":{
     "node_id":"WGWTarPrU9QO0XgNRMqq78",
     "type":"CODE",
     "hide_input_from_viewers":true,
     "hide_output_from_viewers":true
    }
   }
  },
  {
   "cell_type":"code",
   "source":[
    "pd.options.display.max_rows=10"
   ],
   "execution_count":19,
   "outputs":[
    
   ],
   "metadata":{
    "datalore":{
     "node_id":"xmFLiRqp6IEESvDilAxccD",
     "type":"CODE",
     "hide_input_from_viewers":true,
     "hide_output_from_viewers":true
    }
   }
  },
  {
   "cell_type":"code",
   "source":[
    "result = pd.read_csv('przyklady\/ex6.csv')\n",
    "result"
   ],
   "execution_count":20,
   "outputs":[
    {
     "data":{
      "text\/html":[
       "<div>\n",
       "<style scoped>\n",
       "    .dataframe tbody tr th:only-of-type {\n",
       "        vertical-align: middle;\n",
       "    }\n",
       "\n",
       "    .dataframe tbody tr th {\n",
       "        vertical-align: top;\n",
       "    }\n",
       "\n",
       "    .dataframe thead th {\n",
       "        text-align: right;\n",
       "    }\n",
       "<\/style>\n",
       "<table border=\"1\" class=\"dataframe\">\n",
       "  <thead>\n",
       "    <tr style=\"text-align: right;\">\n",
       "      <th><\/th>\n",
       "      <th>one<\/th>\n",
       "      <th>two<\/th>\n",
       "      <th>three<\/th>\n",
       "      <th>four<\/th>\n",
       "      <th>key<\/th>\n",
       "    <\/tr>\n",
       "  <\/thead>\n",
       "  <tbody>\n",
       "    <tr>\n",
       "      <th>0<\/th>\n",
       "      <td>0.467976<\/td>\n",
       "      <td>-0.038649<\/td>\n",
       "      <td>-0.295344<\/td>\n",
       "      <td>-1.824726<\/td>\n",
       "      <td>L<\/td>\n",
       "    <\/tr>\n",
       "    <tr>\n",
       "      <th>1<\/th>\n",
       "      <td>-0.358893<\/td>\n",
       "      <td>1.404453<\/td>\n",
       "      <td>0.704965<\/td>\n",
       "      <td>-0.200638<\/td>\n",
       "      <td>B<\/td>\n",
       "    <\/tr>\n",
       "    <tr>\n",
       "      <th>2<\/th>\n",
       "      <td>-0.501840<\/td>\n",
       "      <td>0.659254<\/td>\n",
       "      <td>-0.421691<\/td>\n",
       "      <td>-0.057688<\/td>\n",
       "      <td>G<\/td>\n",
       "    <\/tr>\n",
       "    <tr>\n",
       "      <th>3<\/th>\n",
       "      <td>0.204886<\/td>\n",
       "      <td>1.074134<\/td>\n",
       "      <td>1.388361<\/td>\n",
       "      <td>-0.982404<\/td>\n",
       "      <td>R<\/td>\n",
       "    <\/tr>\n",
       "    <tr>\n",
       "      <th>4<\/th>\n",
       "      <td>0.354628<\/td>\n",
       "      <td>-0.133116<\/td>\n",
       "      <td>0.283763<\/td>\n",
       "      <td>-0.837063<\/td>\n",
       "      <td>Q<\/td>\n",
       "    <\/tr>\n",
       "    <tr>\n",
       "      <th>...<\/th>\n",
       "      <td>...<\/td>\n",
       "      <td>...<\/td>\n",
       "      <td>...<\/td>\n",
       "      <td>...<\/td>\n",
       "      <td>...<\/td>\n",
       "    <\/tr>\n",
       "    <tr>\n",
       "      <th>9995<\/th>\n",
       "      <td>2.311896<\/td>\n",
       "      <td>-0.417070<\/td>\n",
       "      <td>-1.409599<\/td>\n",
       "      <td>-0.515821<\/td>\n",
       "      <td>L<\/td>\n",
       "    <\/tr>\n",
       "    <tr>\n",
       "      <th>9996<\/th>\n",
       "      <td>-0.479893<\/td>\n",
       "      <td>-0.650419<\/td>\n",
       "      <td>0.745152<\/td>\n",
       "      <td>-0.646038<\/td>\n",
       "      <td>E<\/td>\n",
       "    <\/tr>\n",
       "    <tr>\n",
       "      <th>9997<\/th>\n",
       "      <td>0.523331<\/td>\n",
       "      <td>0.787112<\/td>\n",
       "      <td>0.486066<\/td>\n",
       "      <td>1.093156<\/td>\n",
       "      <td>K<\/td>\n",
       "    <\/tr>\n",
       "    <tr>\n",
       "      <th>9998<\/th>\n",
       "      <td>-0.362559<\/td>\n",
       "      <td>0.598894<\/td>\n",
       "      <td>-1.843201<\/td>\n",
       "      <td>0.887292<\/td>\n",
       "      <td>G<\/td>\n",
       "    <\/tr>\n",
       "    <tr>\n",
       "      <th>9999<\/th>\n",
       "      <td>-0.096376<\/td>\n",
       "      <td>-1.012999<\/td>\n",
       "      <td>-0.657431<\/td>\n",
       "      <td>-0.573315<\/td>\n",
       "      <td>0<\/td>\n",
       "    <\/tr>\n",
       "  <\/tbody>\n",
       "<\/table>\n",
       "<p>10000 rows × 5 columns<\/p>\n",
       "<\/div>"
      ]
     },
     "metadata":{
      
     },
     "output_type":"display_data"
    }
   ],
   "metadata":{
    "datalore":{
     "node_id":"eQV86qKNGtQe3ZetIG226H",
     "type":"CODE",
     "hide_input_from_viewers":true,
     "hide_output_from_viewers":true
    }
   }
  },
  {
   "cell_type":"code",
   "source":[
    "result = pd.read_csv('przyklady\/ex6.csv',nrows=5)\n",
    "result"
   ],
   "execution_count":22,
   "outputs":[
    {
     "data":{
      "text\/html":[
       "<div>\n",
       "<style scoped>\n",
       "    .dataframe tbody tr th:only-of-type {\n",
       "        vertical-align: middle;\n",
       "    }\n",
       "\n",
       "    .dataframe tbody tr th {\n",
       "        vertical-align: top;\n",
       "    }\n",
       "\n",
       "    .dataframe thead th {\n",
       "        text-align: right;\n",
       "    }\n",
       "<\/style>\n",
       "<table border=\"1\" class=\"dataframe\">\n",
       "  <thead>\n",
       "    <tr style=\"text-align: right;\">\n",
       "      <th><\/th>\n",
       "      <th>one<\/th>\n",
       "      <th>two<\/th>\n",
       "      <th>three<\/th>\n",
       "      <th>four<\/th>\n",
       "      <th>key<\/th>\n",
       "    <\/tr>\n",
       "  <\/thead>\n",
       "  <tbody>\n",
       "    <tr>\n",
       "      <th>0<\/th>\n",
       "      <td>0.467976<\/td>\n",
       "      <td>-0.038649<\/td>\n",
       "      <td>-0.295344<\/td>\n",
       "      <td>-1.824726<\/td>\n",
       "      <td>L<\/td>\n",
       "    <\/tr>\n",
       "    <tr>\n",
       "      <th>1<\/th>\n",
       "      <td>-0.358893<\/td>\n",
       "      <td>1.404453<\/td>\n",
       "      <td>0.704965<\/td>\n",
       "      <td>-0.200638<\/td>\n",
       "      <td>B<\/td>\n",
       "    <\/tr>\n",
       "    <tr>\n",
       "      <th>2<\/th>\n",
       "      <td>-0.501840<\/td>\n",
       "      <td>0.659254<\/td>\n",
       "      <td>-0.421691<\/td>\n",
       "      <td>-0.057688<\/td>\n",
       "      <td>G<\/td>\n",
       "    <\/tr>\n",
       "    <tr>\n",
       "      <th>3<\/th>\n",
       "      <td>0.204886<\/td>\n",
       "      <td>1.074134<\/td>\n",
       "      <td>1.388361<\/td>\n",
       "      <td>-0.982404<\/td>\n",
       "      <td>R<\/td>\n",
       "    <\/tr>\n",
       "    <tr>\n",
       "      <th>4<\/th>\n",
       "      <td>0.354628<\/td>\n",
       "      <td>-0.133116<\/td>\n",
       "      <td>0.283763<\/td>\n",
       "      <td>-0.837063<\/td>\n",
       "      <td>Q<\/td>\n",
       "    <\/tr>\n",
       "  <\/tbody>\n",
       "<\/table>\n",
       "<\/div>"
      ]
     },
     "metadata":{
      
     },
     "output_type":"display_data"
    }
   ],
   "metadata":{
    "datalore":{
     "node_id":"WCteCZukuznZb5sOKRrmU3",
     "type":"CODE",
     "hide_input_from_viewers":true,
     "hide_output_from_viewers":true
    }
   }
  },
  {
   "cell_type":"code",
   "source":[
    "#zapis danych\n",
    "data = pd.read_csv('przyklady\/ex5.csv')\n",
    "data"
   ],
   "execution_count":23,
   "outputs":[
    {
     "data":{
      "text\/html":[
       "<div>\n",
       "<style scoped>\n",
       "    .dataframe tbody tr th:only-of-type {\n",
       "        vertical-align: middle;\n",
       "    }\n",
       "\n",
       "    .dataframe tbody tr th {\n",
       "        vertical-align: top;\n",
       "    }\n",
       "\n",
       "    .dataframe thead th {\n",
       "        text-align: right;\n",
       "    }\n",
       "<\/style>\n",
       "<table border=\"1\" class=\"dataframe\">\n",
       "  <thead>\n",
       "    <tr style=\"text-align: right;\">\n",
       "      <th><\/th>\n",
       "      <th>something<\/th>\n",
       "      <th>a<\/th>\n",
       "      <th>b<\/th>\n",
       "      <th>c<\/th>\n",
       "      <th>d<\/th>\n",
       "      <th>message<\/th>\n",
       "    <\/tr>\n",
       "  <\/thead>\n",
       "  <tbody>\n",
       "    <tr>\n",
       "      <th>0<\/th>\n",
       "      <td>one<\/td>\n",
       "      <td>1<\/td>\n",
       "      <td>2<\/td>\n",
       "      <td>3.0<\/td>\n",
       "      <td>4<\/td>\n",
       "      <td>NaN<\/td>\n",
       "    <\/tr>\n",
       "    <tr>\n",
       "      <th>1<\/th>\n",
       "      <td>two<\/td>\n",
       "      <td>5<\/td>\n",
       "      <td>6<\/td>\n",
       "      <td>NaN<\/td>\n",
       "      <td>8<\/td>\n",
       "      <td>world<\/td>\n",
       "    <\/tr>\n",
       "    <tr>\n",
       "      <th>2<\/th>\n",
       "      <td>three<\/td>\n",
       "      <td>9<\/td>\n",
       "      <td>10<\/td>\n",
       "      <td>11.0<\/td>\n",
       "      <td>12<\/td>\n",
       "      <td>foo<\/td>\n",
       "    <\/tr>\n",
       "  <\/tbody>\n",
       "<\/table>\n",
       "<\/div>"
      ]
     },
     "metadata":{
      
     },
     "output_type":"display_data"
    }
   ],
   "metadata":{
    "datalore":{
     "node_id":"bfpmBHL668jUhdPSmZOasf",
     "type":"CODE",
     "hide_input_from_viewers":true,
     "hide_output_from_viewers":true
    }
   }
  },
  {
   "cell_type":"code",
   "source":[
    "data.to_csv('output\/out.csv')\n",
    "!cat output\/out.csv"
   ],
   "execution_count":24,
   "outputs":[
    {
     "name":"stdout",
     "text":[
      ",something,a,b,c,d,message\r\n",
      "0,one,1,2,3.0,4,\r\n",
      "1,two,5,6,,8,world\r\n",
      "2,three,9,10,11.0,12,foo\r\n"
     ],
     "output_type":"stream"
    }
   ],
   "metadata":{
    "datalore":{
     "node_id":"hhGVJx4YrbLxaflDbMvNuc",
     "type":"CODE",
     "hide_input_from_viewers":true,
     "hide_output_from_viewers":true
    }
   }
  },
  {
   "cell_type":"code",
   "source":[
    "import sys\n",
    "data.to_csv(sys.stdout, sep='|')"
   ],
   "execution_count":25,
   "outputs":[
    {
     "name":"stdout",
     "text":[
      "|something|a|b|c|d|message\n",
      "0|one|1|2|3.0|4|\n",
      "1|two|5|6||8|world\n",
      "2|three|9|10|11.0|12|foo\n"
     ],
     "output_type":"stream"
    }
   ],
   "metadata":{
    "datalore":{
     "node_id":"2FXMO643acocG6WHPQQEwS",
     "type":"CODE",
     "hide_input_from_viewers":true,
     "hide_output_from_viewers":true
    }
   }
  },
  {
   "cell_type":"code",
   "source":[
    "data.to_csv(sys.stdout,index=False,header=False)"
   ],
   "execution_count":26,
   "outputs":[
    {
     "name":"stdout",
     "text":[
      "one,1,2,3.0,4,\n",
      "two,5,6,,8,world\n",
      "three,9,10,11.0,12,foo\n"
     ],
     "output_type":"stream"
    }
   ],
   "metadata":{
    "datalore":{
     "node_id":"t3YRg6XeYfCVGXMyNujsEL",
     "type":"CODE",
     "hide_input_from_viewers":true,
     "hide_output_from_viewers":true
    }
   }
  },
  {
   "cell_type":"code",
   "source":[
    "data.to_csv(sys.stdout,index=False,columns=['a','b','c'])"
   ],
   "execution_count":27,
   "outputs":[
    {
     "name":"stdout",
     "text":[
      "a,b,c\n",
      "1,2,3.0\n",
      "5,6,\n",
      "9,10,11.0\n"
     ],
     "output_type":"stream"
    }
   ],
   "metadata":{
    "datalore":{
     "node_id":"gQ4MQI2gYccHwjUU0BD7qO",
     "type":"CODE",
     "hide_input_from_viewers":true,
     "hide_output_from_viewers":true
    }
   }
  },
  {
   "cell_type":"code",
   "source":[
    "data.to_csv('output\/mdane.csv',index=False,columns=['a','b','c'])"
   ],
   "execution_count":28,
   "outputs":[
    
   ],
   "metadata":{
    "datalore":{
     "node_id":"lMs4ZWHQmNrYYZIIKPtSzC",
     "type":"CODE",
     "hide_input_from_viewers":true,
     "hide_output_from_viewers":true
    }
   }
  },
  {
   "cell_type":"code",
   "source":[
    "import json\n",
    "!cat przyklady\/example.json"
   ],
   "execution_count":29,
   "outputs":[
    {
     "name":"stdout",
     "text":[
      "[{\"a\": 1, \"b\": 2, \"c\": 3},\r\n",
      " {\"a\": 4, \"b\": 5, \"c\": 6},\r\n",
      " {\"a\": 7, \"b\": 8, \"c\": 9}]\r\n"
     ],
     "output_type":"stream"
    }
   ],
   "metadata":{
    "datalore":{
     "node_id":"ypHzZL7Gr2xgrhvL9r8JGB",
     "type":"CODE",
     "hide_input_from_viewers":true,
     "hide_output_from_viewers":true
    }
   }
  },
  {
   "cell_type":"code",
   "source":[
    "data = pd.read_json('przyklady\/example.json')\n",
    "data"
   ],
   "execution_count":30,
   "outputs":[
    {
     "data":{
      "text\/html":[
       "<div>\n",
       "<style scoped>\n",
       "    .dataframe tbody tr th:only-of-type {\n",
       "        vertical-align: middle;\n",
       "    }\n",
       "\n",
       "    .dataframe tbody tr th {\n",
       "        vertical-align: top;\n",
       "    }\n",
       "\n",
       "    .dataframe thead th {\n",
       "        text-align: right;\n",
       "    }\n",
       "<\/style>\n",
       "<table border=\"1\" class=\"dataframe\">\n",
       "  <thead>\n",
       "    <tr style=\"text-align: right;\">\n",
       "      <th><\/th>\n",
       "      <th>a<\/th>\n",
       "      <th>b<\/th>\n",
       "      <th>c<\/th>\n",
       "    <\/tr>\n",
       "  <\/thead>\n",
       "  <tbody>\n",
       "    <tr>\n",
       "      <th>0<\/th>\n",
       "      <td>1<\/td>\n",
       "      <td>2<\/td>\n",
       "      <td>3<\/td>\n",
       "    <\/tr>\n",
       "    <tr>\n",
       "      <th>1<\/th>\n",
       "      <td>4<\/td>\n",
       "      <td>5<\/td>\n",
       "      <td>6<\/td>\n",
       "    <\/tr>\n",
       "    <tr>\n",
       "      <th>2<\/th>\n",
       "      <td>7<\/td>\n",
       "      <td>8<\/td>\n",
       "      <td>9<\/td>\n",
       "    <\/tr>\n",
       "  <\/tbody>\n",
       "<\/table>\n",
       "<\/div>"
      ]
     },
     "metadata":{
      
     },
     "output_type":"display_data"
    }
   ],
   "metadata":{
    "datalore":{
     "node_id":"ZC2ydXjw9dwZDZrjHBIbtB",
     "type":"CODE",
     "hide_input_from_viewers":true,
     "hide_output_from_viewers":true
    }
   }
  },
  {
   "cell_type":"code",
   "source":[
    "print(data.to_json())"
   ],
   "execution_count":31,
   "outputs":[
    {
     "name":"stdout",
     "text":[
      "{\"a\":{\"0\":1,\"1\":4,\"2\":7},\"b\":{\"0\":2,\"1\":5,\"2\":8},\"c\":{\"0\":3,\"1\":6,\"2\":9}}\n"
     ],
     "output_type":"stream"
    }
   ],
   "metadata":{
    "datalore":{
     "node_id":"WL9APvWATr6FQG2e0Gzmwe",
     "type":"CODE",
     "hide_input_from_viewers":true,
     "hide_output_from_viewers":true
    }
   }
  },
  {
   "cell_type":"code",
   "source":[
    "print(data.to_json(orient='records'))"
   ],
   "execution_count":32,
   "outputs":[
    {
     "name":"stdout",
     "text":[
      "[{\"a\":1,\"b\":2,\"c\":3},{\"a\":4,\"b\":5,\"c\":6},{\"a\":7,\"b\":8,\"c\":9}]\n"
     ],
     "output_type":"stream"
    }
   ],
   "metadata":{
    "datalore":{
     "node_id":"GM54kyJuZgToqrsx95FRNd",
     "type":"CODE",
     "hide_input_from_viewers":true,
     "hide_output_from_viewers":true
    }
   }
  }
 ],
 "metadata":{
  "kernelspec":{
   "display_name":"Python",
   "language":"python",
   "name":"python"
  },
  "datalore":{
   "computation_mode":"JUPYTER",
   "package_manager":"pip",
   "base_environment":"default",
   "packages":[
    
   ],
   "report_row_ids":[
    
   ],
   "version":3
  }
 },
 "nbformat":4,
 "nbformat_minor":4
}