{
 "cells":[
  {
   "cell_type":"code",
   "source":[
    "import pandas as pd"
   ],
   "execution_count":1,
   "outputs":[
    
   ],
   "metadata":{
    "datalore":{
     "node_id":"EsXdGhXGrddpJ3qjC2mk3q",
     "type":"CODE",
     "hide_input_from_viewers":true,
     "hide_output_from_viewers":true
    }
   }
  },
  {
   "cell_type":"code",
   "source":[
    "obj = pd.Series([4,7,-5,3])\n",
    "obj"
   ],
   "execution_count":2,
   "outputs":[
    {
     "data":{
      "text\/html":[
       "<pre>0    4\n",
       "1    7\n",
       "2   -5\n",
       "3    3\n",
       "dtype: int64<\/pre>"
      ]
     },
     "metadata":{
      
     },
     "output_type":"display_data"
    }
   ],
   "metadata":{
    "datalore":{
     "node_id":"NxuGS4z0VNGin0GqaqG8TS",
     "type":"CODE",
     "hide_input_from_viewers":true,
     "hide_output_from_viewers":true
    }
   }
  },
  {
   "cell_type":"code",
   "source":[
    "type(obj)"
   ],
   "execution_count":3,
   "outputs":[
    {
     "data":{
      "text\/plain":[
       "pandas.core.series.Series"
      ]
     },
     "metadata":{
      
     },
     "output_type":"display_data"
    }
   ],
   "metadata":{
    "datalore":{
     "node_id":"dRgM3sfxb3StygcES2IkZJ",
     "type":"CODE",
     "hide_input_from_viewers":true,
     "hide_output_from_viewers":true
    }
   }
  },
  {
   "cell_type":"code",
   "source":[
    "obj.values"
   ],
   "execution_count":4,
   "outputs":[
    {
     "data":{
      "text\/html":[
       "<pre>array([ 4,  7, -5,  3])<\/pre>"
      ]
     },
     "metadata":{
      
     },
     "output_type":"display_data"
    }
   ],
   "metadata":{
    "datalore":{
     "node_id":"aR09NZFitdzJyEweTq2my6",
     "type":"CODE",
     "hide_input_from_viewers":true,
     "hide_output_from_viewers":true
    }
   }
  },
  {
   "cell_type":"code",
   "source":[
    "obj.index"
   ],
   "execution_count":5,
   "outputs":[
    {
     "data":{
      "text\/plain":[
       "RangeIndex(start=0, stop=4, step=1)"
      ]
     },
     "metadata":{
      
     },
     "output_type":"display_data"
    }
   ],
   "metadata":{
    "datalore":{
     "node_id":"1hzZ5bcLCk8yh2Ljn38hCu",
     "type":"CODE",
     "hide_input_from_viewers":true,
     "hide_output_from_viewers":true
    }
   }
  },
  {
   "cell_type":"code",
   "source":[
    "obj2 = pd.Series([4,7,-5,3],index=['a','b','d','c'])\n",
    "obj2"
   ],
   "execution_count":6,
   "outputs":[
    {
     "data":{
      "text\/html":[
       "<pre>a    4\n",
       "b    7\n",
       "d   -5\n",
       "c    3\n",
       "dtype: int64<\/pre>"
      ]
     },
     "metadata":{
      
     },
     "output_type":"display_data"
    }
   ],
   "metadata":{
    "datalore":{
     "node_id":"RVvFQeqhl98lkbkKIX6bK0",
     "type":"CODE",
     "hide_input_from_viewers":true,
     "hide_output_from_viewers":true
    }
   }
  },
  {
   "cell_type":"code",
   "source":[
    "obj2['a']"
   ],
   "execution_count":7,
   "outputs":[
    {
     "data":{
      "text\/plain":[
       "4"
      ]
     },
     "metadata":{
      
     },
     "output_type":"display_data"
    }
   ],
   "metadata":{
    "datalore":{
     "node_id":"7ZeeQ8gQFtZ8Ur9JoZIRJo",
     "type":"CODE",
     "hide_input_from_viewers":true,
     "hide_output_from_viewers":true
    }
   }
  },
  {
   "cell_type":"code",
   "source":[
    "obj2['d'] = 888\n",
    "obj2"
   ],
   "execution_count":8,
   "outputs":[
    {
     "data":{
      "text\/html":[
       "<pre>a      4\n",
       "b      7\n",
       "d    888\n",
       "c      3\n",
       "dtype: int64<\/pre>"
      ]
     },
     "metadata":{
      
     },
     "output_type":"display_data"
    }
   ],
   "metadata":{
    "datalore":{
     "node_id":"IPdIFqrJSr9fX17rWDIdex",
     "type":"CODE",
     "hide_input_from_viewers":true,
     "hide_output_from_viewers":true
    }
   }
  },
  {
   "cell_type":"code",
   "source":[
    "obj2['g'] = 100\n",
    "obj2"
   ],
   "execution_count":9,
   "outputs":[
    {
     "data":{
      "text\/html":[
       "<pre>a      4\n",
       "b      7\n",
       "d    888\n",
       "c      3\n",
       "g    100\n",
       "dtype: int64<\/pre>"
      ]
     },
     "metadata":{
      
     },
     "output_type":"display_data"
    }
   ],
   "metadata":{
    "datalore":{
     "node_id":"XIrPWYXoDbPLjMeTML6vVJ",
     "type":"CODE",
     "hide_input_from_viewers":true,
     "hide_output_from_viewers":true
    }
   }
  },
  {
   "cell_type":"code",
   "source":[
    "obj2[['c','d']]"
   ],
   "execution_count":10,
   "outputs":[
    {
     "data":{
      "text\/html":[
       "<pre>c      3\n",
       "d    888\n",
       "dtype: int64<\/pre>"
      ]
     },
     "metadata":{
      
     },
     "output_type":"display_data"
    }
   ],
   "metadata":{
    "datalore":{
     "node_id":"F6CZO1RVUrXD7XqOS1oDJw",
     "type":"CODE",
     "hide_input_from_viewers":true,
     "hide_output_from_viewers":true
    }
   }
  },
  {
   "cell_type":"code",
   "source":[
    "obj2[obj2>6]"
   ],
   "execution_count":11,
   "outputs":[
    {
     "data":{
      "text\/html":[
       "<pre>b      7\n",
       "d    888\n",
       "g    100\n",
       "dtype: int64<\/pre>"
      ]
     },
     "metadata":{
      
     },
     "output_type":"display_data"
    }
   ],
   "metadata":{
    "datalore":{
     "node_id":"1vnbVYyhgE8NeChV4He9Ie",
     "type":"CODE",
     "hide_input_from_viewers":true,
     "hide_output_from_viewers":true
    }
   }
  },
  {
   "cell_type":"code",
   "source":[
    "obj2*2"
   ],
   "execution_count":12,
   "outputs":[
    {
     "data":{
      "text\/html":[
       "<pre>a       8\n",
       "b      14\n",
       "d    1776\n",
       "c       6\n",
       "g     200\n",
       "dtype: int64<\/pre>"
      ]
     },
     "metadata":{
      
     },
     "output_type":"display_data"
    }
   ],
   "metadata":{
    "datalore":{
     "node_id":"WDO5CJKTICPn37NuoAEvfk",
     "type":"CODE",
     "hide_input_from_viewers":true,
     "hide_output_from_viewers":true
    }
   }
  },
  {
   "cell_type":"code",
   "source":[
    "'b' in obj2"
   ],
   "execution_count":13,
   "outputs":[
    {
     "data":{
      "text\/plain":[
       "True"
      ]
     },
     "metadata":{
      
     },
     "output_type":"display_data"
    }
   ],
   "metadata":{
    "datalore":{
     "node_id":"mPJcYVEcEmwc7BvkjoIVug",
     "type":"CODE",
     "hide_input_from_viewers":true,
     "hide_output_from_viewers":true
    }
   }
  },
  {
   "cell_type":"code",
   "source":[
    "'h' in obj2"
   ],
   "execution_count":14,
   "outputs":[
    {
     "data":{
      "text\/plain":[
       "False"
      ]
     },
     "metadata":{
      
     },
     "output_type":"display_data"
    }
   ],
   "metadata":{
    "datalore":{
     "node_id":"j2zFrlTeWoUW8YEBBZLX9o",
     "type":"CODE",
     "hide_input_from_viewers":true,
     "hide_output_from_viewers":true
    }
   }
  },
  {
   "cell_type":"code",
   "source":[
    "s = {'Warszawa':45678,'Kraków':44323,'Lublin':41988,'Gdańsk':40122}\n",
    "s"
   ],
   "execution_count":15,
   "outputs":[
    {
     "data":{
      "text\/plain":[
       "{'Warszawa': 45678, 'Kraków': 44323, 'Lublin': 41988, 'Gdańsk': 40122}"
      ]
     },
     "metadata":{
      
     },
     "output_type":"display_data"
    }
   ],
   "metadata":{
    "datalore":{
     "node_id":"smZpmr8H9tD5dbRSADglMr",
     "type":"CODE",
     "hide_input_from_viewers":true,
     "hide_output_from_viewers":true
    }
   }
  },
  {
   "cell_type":"code",
   "source":[
    "obj3 = pd.Series(s)\n",
    "obj3"
   ],
   "execution_count":16,
   "outputs":[
    {
     "data":{
      "text\/html":[
       "<pre>Warszawa    45678\n",
       "Kraków      44323\n",
       "Lublin      41988\n",
       "Gdańsk      40122\n",
       "dtype: int64<\/pre>"
      ]
     },
     "metadata":{
      
     },
     "output_type":"display_data"
    }
   ],
   "metadata":{
    "datalore":{
     "node_id":"bGDBRsK86GhDz2Qbr28oJZ",
     "type":"CODE",
     "hide_input_from_viewers":true,
     "hide_output_from_viewers":true
    }
   }
  },
  {
   "cell_type":"code",
   "source":[
    "miasta = ['Poznań','Kraków','Rzeszów','Lublin']\n",
    "obj4 = pd.Series(s,index=miasta)\n",
    "obj4"
   ],
   "execution_count":17,
   "outputs":[
    {
     "data":{
      "text\/html":[
       "<pre>Poznań         NaN\n",
       "Kraków     44323.0\n",
       "Rzeszów        NaN\n",
       "Lublin     41988.0\n",
       "dtype: float64<\/pre>"
      ]
     },
     "metadata":{
      
     },
     "output_type":"display_data"
    }
   ],
   "metadata":{
    "datalore":{
     "node_id":"MthwWlIvoDYEpZAbwNgGw4",
     "type":"CODE",
     "hide_input_from_viewers":true,
     "hide_output_from_viewers":true
    }
   }
  },
  {
   "cell_type":"code",
   "source":[
    "obj3+obj4"
   ],
   "execution_count":18,
   "outputs":[
    {
     "data":{
      "text\/html":[
       "<pre>Gdańsk          NaN\n",
       "Kraków      88646.0\n",
       "Lublin      83976.0\n",
       "Poznań          NaN\n",
       "Rzeszów         NaN\n",
       "Warszawa        NaN\n",
       "dtype: float64<\/pre>"
      ]
     },
     "metadata":{
      
     },
     "output_type":"display_data"
    }
   ],
   "metadata":{
    "datalore":{
     "node_id":"NATH0SBQ2OSk0sguO4xxic",
     "type":"CODE",
     "hide_input_from_viewers":true,
     "hide_output_from_viewers":true
    }
   }
  },
  {
   "cell_type":"code",
   "source":[
    "data = {'miasto':['Warszawa','Warszawa','Warszawa','Kraków','Kraków','Kraków'],\n",
    "        'rok':[2017,2018,2019,2018,2019,2020],\n",
    "        'populacja':[2.7,2.75,3.05,0.85,0.91,1.01]}\n",
    "\n",
    "frame = pd.DataFrame(data)"
   ],
   "execution_count":19,
   "outputs":[
    
   ],
   "metadata":{
    "datalore":{
     "node_id":"GMWCeikdw6KNIHGcipFQ2B",
     "type":"CODE",
     "hide_input_from_viewers":true,
     "hide_output_from_viewers":true
    }
   }
  },
  {
   "cell_type":"code",
   "source":[
    "frame"
   ],
   "execution_count":20,
   "outputs":[
    {
     "data":{
      "text\/html":[
       "<div>\n",
       "<style scoped>\n",
       "    .dataframe tbody tr th:only-of-type {\n",
       "        vertical-align: middle;\n",
       "    }\n",
       "\n",
       "    .dataframe tbody tr th {\n",
       "        vertical-align: top;\n",
       "    }\n",
       "\n",
       "    .dataframe thead th {\n",
       "        text-align: right;\n",
       "    }\n",
       "<\/style>\n",
       "<table border=\"1\" class=\"dataframe\">\n",
       "  <thead>\n",
       "    <tr style=\"text-align: right;\">\n",
       "      <th><\/th>\n",
       "      <th>miasto<\/th>\n",
       "      <th>rok<\/th>\n",
       "      <th>populacja<\/th>\n",
       "    <\/tr>\n",
       "  <\/thead>\n",
       "  <tbody>\n",
       "    <tr>\n",
       "      <th>0<\/th>\n",
       "      <td>Warszawa<\/td>\n",
       "      <td>2017<\/td>\n",
       "      <td>2.70<\/td>\n",
       "    <\/tr>\n",
       "    <tr>\n",
       "      <th>1<\/th>\n",
       "      <td>Warszawa<\/td>\n",
       "      <td>2018<\/td>\n",
       "      <td>2.75<\/td>\n",
       "    <\/tr>\n",
       "    <tr>\n",
       "      <th>2<\/th>\n",
       "      <td>Warszawa<\/td>\n",
       "      <td>2019<\/td>\n",
       "      <td>3.05<\/td>\n",
       "    <\/tr>\n",
       "    <tr>\n",
       "      <th>3<\/th>\n",
       "      <td>Kraków<\/td>\n",
       "      <td>2018<\/td>\n",
       "      <td>0.85<\/td>\n",
       "    <\/tr>\n",
       "    <tr>\n",
       "      <th>4<\/th>\n",
       "      <td>Kraków<\/td>\n",
       "      <td>2019<\/td>\n",
       "      <td>0.91<\/td>\n",
       "    <\/tr>\n",
       "    <tr>\n",
       "      <th>5<\/th>\n",
       "      <td>Kraków<\/td>\n",
       "      <td>2020<\/td>\n",
       "      <td>1.01<\/td>\n",
       "    <\/tr>\n",
       "  <\/tbody>\n",
       "<\/table>\n",
       "<\/div>"
      ]
     },
     "metadata":{
      
     },
     "output_type":"display_data"
    }
   ],
   "metadata":{
    "datalore":{
     "node_id":"3BG8gFj40CrD3hpXLW8D18",
     "type":"CODE",
     "hide_input_from_viewers":true,
     "hide_output_from_viewers":true
    }
   }
  },
  {
   "cell_type":"code",
   "source":[
    "frame2 = pd.DataFrame(data,columns=['rok','miasto','populacja','waga'],index = ['jeden','dwa','trzy','cztery','pieć','sześć'])\n",
    "frame2"
   ],
   "execution_count":21,
   "outputs":[
    {
     "data":{
      "text\/html":[
       "<div>\n",
       "<style scoped>\n",
       "    .dataframe tbody tr th:only-of-type {\n",
       "        vertical-align: middle;\n",
       "    }\n",
       "\n",
       "    .dataframe tbody tr th {\n",
       "        vertical-align: top;\n",
       "    }\n",
       "\n",
       "    .dataframe thead th {\n",
       "        text-align: right;\n",
       "    }\n",
       "<\/style>\n",
       "<table border=\"1\" class=\"dataframe\">\n",
       "  <thead>\n",
       "    <tr style=\"text-align: right;\">\n",
       "      <th><\/th>\n",
       "      <th>rok<\/th>\n",
       "      <th>miasto<\/th>\n",
       "      <th>populacja<\/th>\n",
       "      <th>waga<\/th>\n",
       "    <\/tr>\n",
       "  <\/thead>\n",
       "  <tbody>\n",
       "    <tr>\n",
       "      <th>jeden<\/th>\n",
       "      <td>2017<\/td>\n",
       "      <td>Warszawa<\/td>\n",
       "      <td>2.70<\/td>\n",
       "      <td>NaN<\/td>\n",
       "    <\/tr>\n",
       "    <tr>\n",
       "      <th>dwa<\/th>\n",
       "      <td>2018<\/td>\n",
       "      <td>Warszawa<\/td>\n",
       "      <td>2.75<\/td>\n",
       "      <td>NaN<\/td>\n",
       "    <\/tr>\n",
       "    <tr>\n",
       "      <th>trzy<\/th>\n",
       "      <td>2019<\/td>\n",
       "      <td>Warszawa<\/td>\n",
       "      <td>3.05<\/td>\n",
       "      <td>NaN<\/td>\n",
       "    <\/tr>\n",
       "    <tr>\n",
       "      <th>cztery<\/th>\n",
       "      <td>2018<\/td>\n",
       "      <td>Kraków<\/td>\n",
       "      <td>0.85<\/td>\n",
       "      <td>NaN<\/td>\n",
       "    <\/tr>\n",
       "    <tr>\n",
       "      <th>pieć<\/th>\n",
       "      <td>2019<\/td>\n",
       "      <td>Kraków<\/td>\n",
       "      <td>0.91<\/td>\n",
       "      <td>NaN<\/td>\n",
       "    <\/tr>\n",
       "    <tr>\n",
       "      <th>sześć<\/th>\n",
       "      <td>2020<\/td>\n",
       "      <td>Kraków<\/td>\n",
       "      <td>1.01<\/td>\n",
       "      <td>NaN<\/td>\n",
       "    <\/tr>\n",
       "  <\/tbody>\n",
       "<\/table>\n",
       "<\/div>"
      ]
     },
     "metadata":{
      
     },
     "output_type":"display_data"
    }
   ],
   "metadata":{
    "datalore":{
     "node_id":"Xgoz9LTyMOSF3qc1bqM1s2",
     "type":"CODE",
     "hide_input_from_viewers":true,
     "hide_output_from_viewers":true
    }
   }
  },
  {
   "cell_type":"code",
   "source":[
    "frame2['waga']=0.12"
   ],
   "execution_count":22,
   "outputs":[
    
   ],
   "metadata":{
    "datalore":{
     "node_id":"cCKmQgaGQTJr9H90a2Ho99",
     "type":"CODE",
     "hide_input_from_viewers":true,
     "hide_output_from_viewers":true
    }
   }
  },
  {
   "cell_type":"code",
   "source":[
    "frame2"
   ],
   "execution_count":23,
   "outputs":[
    {
     "data":{
      "text\/html":[
       "<div>\n",
       "<style scoped>\n",
       "    .dataframe tbody tr th:only-of-type {\n",
       "        vertical-align: middle;\n",
       "    }\n",
       "\n",
       "    .dataframe tbody tr th {\n",
       "        vertical-align: top;\n",
       "    }\n",
       "\n",
       "    .dataframe thead th {\n",
       "        text-align: right;\n",
       "    }\n",
       "<\/style>\n",
       "<table border=\"1\" class=\"dataframe\">\n",
       "  <thead>\n",
       "    <tr style=\"text-align: right;\">\n",
       "      <th><\/th>\n",
       "      <th>rok<\/th>\n",
       "      <th>miasto<\/th>\n",
       "      <th>populacja<\/th>\n",
       "      <th>waga<\/th>\n",
       "    <\/tr>\n",
       "  <\/thead>\n",
       "  <tbody>\n",
       "    <tr>\n",
       "      <th>jeden<\/th>\n",
       "      <td>2017<\/td>\n",
       "      <td>Warszawa<\/td>\n",
       "      <td>2.70<\/td>\n",
       "      <td>0.12<\/td>\n",
       "    <\/tr>\n",
       "    <tr>\n",
       "      <th>dwa<\/th>\n",
       "      <td>2018<\/td>\n",
       "      <td>Warszawa<\/td>\n",
       "      <td>2.75<\/td>\n",
       "      <td>0.12<\/td>\n",
       "    <\/tr>\n",
       "    <tr>\n",
       "      <th>trzy<\/th>\n",
       "      <td>2019<\/td>\n",
       "      <td>Warszawa<\/td>\n",
       "      <td>3.05<\/td>\n",
       "      <td>0.12<\/td>\n",
       "    <\/tr>\n",
       "    <tr>\n",
       "      <th>cztery<\/th>\n",
       "      <td>2018<\/td>\n",
       "      <td>Kraków<\/td>\n",
       "      <td>0.85<\/td>\n",
       "      <td>0.12<\/td>\n",
       "    <\/tr>\n",
       "    <tr>\n",
       "      <th>pieć<\/th>\n",
       "      <td>2019<\/td>\n",
       "      <td>Kraków<\/td>\n",
       "      <td>0.91<\/td>\n",
       "      <td>0.12<\/td>\n",
       "    <\/tr>\n",
       "    <tr>\n",
       "      <th>sześć<\/th>\n",
       "      <td>2020<\/td>\n",
       "      <td>Kraków<\/td>\n",
       "      <td>1.01<\/td>\n",
       "      <td>0.12<\/td>\n",
       "    <\/tr>\n",
       "  <\/tbody>\n",
       "<\/table>\n",
       "<\/div>"
      ]
     },
     "metadata":{
      
     },
     "output_type":"display_data"
    }
   ],
   "metadata":{
    "datalore":{
     "node_id":"GkJCvMxW0U8cdRMfoe08pY",
     "type":"CODE",
     "hide_input_from_viewers":true,
     "hide_output_from_viewers":true
    }
   }
  },
  {
   "cell_type":"code",
   "source":[
    "import numpy as np"
   ],
   "execution_count":24,
   "outputs":[
    
   ],
   "metadata":{
    "datalore":{
     "node_id":"CyWih4OVwMADzyEFhkwmAt",
     "type":"CODE",
     "hide_input_from_viewers":true,
     "hide_output_from_viewers":true
    }
   }
  },
  {
   "cell_type":"code",
   "source":[
    "frame2['waga']=np.arange(6.)\n",
    "frame2"
   ],
   "execution_count":25,
   "outputs":[
    {
     "data":{
      "text\/html":[
       "<div>\n",
       "<style scoped>\n",
       "    .dataframe tbody tr th:only-of-type {\n",
       "        vertical-align: middle;\n",
       "    }\n",
       "\n",
       "    .dataframe tbody tr th {\n",
       "        vertical-align: top;\n",
       "    }\n",
       "\n",
       "    .dataframe thead th {\n",
       "        text-align: right;\n",
       "    }\n",
       "<\/style>\n",
       "<table border=\"1\" class=\"dataframe\">\n",
       "  <thead>\n",
       "    <tr style=\"text-align: right;\">\n",
       "      <th><\/th>\n",
       "      <th>rok<\/th>\n",
       "      <th>miasto<\/th>\n",
       "      <th>populacja<\/th>\n",
       "      <th>waga<\/th>\n",
       "    <\/tr>\n",
       "  <\/thead>\n",
       "  <tbody>\n",
       "    <tr>\n",
       "      <th>jeden<\/th>\n",
       "      <td>2017<\/td>\n",
       "      <td>Warszawa<\/td>\n",
       "      <td>2.70<\/td>\n",
       "      <td>0.0<\/td>\n",
       "    <\/tr>\n",
       "    <tr>\n",
       "      <th>dwa<\/th>\n",
       "      <td>2018<\/td>\n",
       "      <td>Warszawa<\/td>\n",
       "      <td>2.75<\/td>\n",
       "      <td>1.0<\/td>\n",
       "    <\/tr>\n",
       "    <tr>\n",
       "      <th>trzy<\/th>\n",
       "      <td>2019<\/td>\n",
       "      <td>Warszawa<\/td>\n",
       "      <td>3.05<\/td>\n",
       "      <td>2.0<\/td>\n",
       "    <\/tr>\n",
       "    <tr>\n",
       "      <th>cztery<\/th>\n",
       "      <td>2018<\/td>\n",
       "      <td>Kraków<\/td>\n",
       "      <td>0.85<\/td>\n",
       "      <td>3.0<\/td>\n",
       "    <\/tr>\n",
       "    <tr>\n",
       "      <th>pieć<\/th>\n",
       "      <td>2019<\/td>\n",
       "      <td>Kraków<\/td>\n",
       "      <td>0.91<\/td>\n",
       "      <td>4.0<\/td>\n",
       "    <\/tr>\n",
       "    <tr>\n",
       "      <th>sześć<\/th>\n",
       "      <td>2020<\/td>\n",
       "      <td>Kraków<\/td>\n",
       "      <td>1.01<\/td>\n",
       "      <td>5.0<\/td>\n",
       "    <\/tr>\n",
       "  <\/tbody>\n",
       "<\/table>\n",
       "<\/div>"
      ]
     },
     "metadata":{
      
     },
     "output_type":"display_data"
    }
   ],
   "metadata":{
    "datalore":{
     "node_id":"3TyZuD7Xg6WSPW4G3godZh",
     "type":"CODE",
     "hide_input_from_viewers":true,
     "hide_output_from_viewers":true
    }
   }
  },
  {
   "cell_type":"code",
   "source":[
    "frame2['waga'] = np.array([0.99,1.08,1.1,2,3,0.1])\n",
    "frame2"
   ],
   "execution_count":27,
   "outputs":[
    {
     "data":{
      "text\/html":[
       "<div>\n",
       "<style scoped>\n",
       "    .dataframe tbody tr th:only-of-type {\n",
       "        vertical-align: middle;\n",
       "    }\n",
       "\n",
       "    .dataframe tbody tr th {\n",
       "        vertical-align: top;\n",
       "    }\n",
       "\n",
       "    .dataframe thead th {\n",
       "        text-align: right;\n",
       "    }\n",
       "<\/style>\n",
       "<table border=\"1\" class=\"dataframe\">\n",
       "  <thead>\n",
       "    <tr style=\"text-align: right;\">\n",
       "      <th><\/th>\n",
       "      <th>rok<\/th>\n",
       "      <th>miasto<\/th>\n",
       "      <th>populacja<\/th>\n",
       "      <th>waga<\/th>\n",
       "    <\/tr>\n",
       "  <\/thead>\n",
       "  <tbody>\n",
       "    <tr>\n",
       "      <th>jeden<\/th>\n",
       "      <td>2017<\/td>\n",
       "      <td>Warszawa<\/td>\n",
       "      <td>2.70<\/td>\n",
       "      <td>0.99<\/td>\n",
       "    <\/tr>\n",
       "    <tr>\n",
       "      <th>dwa<\/th>\n",
       "      <td>2018<\/td>\n",
       "      <td>Warszawa<\/td>\n",
       "      <td>2.75<\/td>\n",
       "      <td>1.08<\/td>\n",
       "    <\/tr>\n",
       "    <tr>\n",
       "      <th>trzy<\/th>\n",
       "      <td>2019<\/td>\n",
       "      <td>Warszawa<\/td>\n",
       "      <td>3.05<\/td>\n",
       "      <td>1.10<\/td>\n",
       "    <\/tr>\n",
       "    <tr>\n",
       "      <th>cztery<\/th>\n",
       "      <td>2018<\/td>\n",
       "      <td>Kraków<\/td>\n",
       "      <td>0.85<\/td>\n",
       "      <td>2.00<\/td>\n",
       "    <\/tr>\n",
       "    <tr>\n",
       "      <th>pieć<\/th>\n",
       "      <td>2019<\/td>\n",
       "      <td>Kraków<\/td>\n",
       "      <td>0.91<\/td>\n",
       "      <td>3.00<\/td>\n",
       "    <\/tr>\n",
       "    <tr>\n",
       "      <th>sześć<\/th>\n",
       "      <td>2020<\/td>\n",
       "      <td>Kraków<\/td>\n",
       "      <td>1.01<\/td>\n",
       "      <td>0.10<\/td>\n",
       "    <\/tr>\n",
       "  <\/tbody>\n",
       "<\/table>\n",
       "<\/div>"
      ]
     },
     "metadata":{
      
     },
     "output_type":"display_data"
    }
   ],
   "metadata":{
    "datalore":{
     "node_id":"mtNmjdKEMTBrPeH9XsMZYz",
     "type":"CODE",
     "hide_input_from_viewers":true,
     "hide_output_from_viewers":true
    }
   }
  }
 ],
 "metadata":{
  "kernelspec":{
   "display_name":"Python",
   "language":"python",
   "name":"python"
  },
  "datalore":{
   "computation_mode":"JUPYTER",
   "package_manager":"pip",
   "base_environment":"default",
   "packages":[
    
   ],
   "report_row_ids":[
    
   ],
   "version":3
  }
 },
 "nbformat":4,
 "nbformat_minor":4
}